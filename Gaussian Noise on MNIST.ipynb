{
 "cells": [
  {
   "cell_type": "markdown",
   "metadata": {},
   "source": [
    "### PRE-TRAINING MODEL ON MNIST DATA"
   ]
  },
  {
   "cell_type": "code",
   "execution_count": 1,
   "metadata": {},
   "outputs": [],
   "source": [
    "import tensorflow as tf\n",
    "import matplotlib.pyplot as plt\n",
    "import numpy as np"
   ]
  },
  {
   "cell_type": "code",
   "execution_count": 2,
   "metadata": {},
   "outputs": [],
   "source": [
    "# Loading MNIST dataset\n",
    "mnist = tf.keras.datasets.mnist"
   ]
  },
  {
   "cell_type": "code",
   "execution_count": 3,
   "metadata": {},
   "outputs": [],
   "source": [
    "# Split dataset\n",
    "(x_train, y_train),(x_test, y_test) = mnist.load_data()\n",
    "\n",
    "# Scaling values of x_train and x_test so they lie between 0 and 1\n",
    "x_train, x_test = x_train / 255.0, x_test / 255.0"
   ]
  },
  {
   "cell_type": "code",
   "execution_count": 7,
   "metadata": {},
   "outputs": [],
   "source": [
    "# Building pre-trained model\n",
    "\n",
    "model = tf.keras.models.Sequential([\n",
    "  tf.keras.layers.Flatten(),\n",
    "  tf.keras.layers.Dense(512, activation=tf.nn.relu),\n",
    "  tf.keras.layers.Dropout(0.2),\n",
    "  tf.keras.layers.Dense(10, activation=tf.nn.softmax)\n",
    "])\n",
    "\n",
    "model.compile(optimizer='adam',\n",
    "              loss='sparse_categorical_crossentropy',\n",
    "              metrics=['accuracy'])"
   ]
  },
  {
   "cell_type": "code",
   "execution_count": 8,
   "metadata": {},
   "outputs": [
    {
     "name": "stdout",
     "output_type": "stream",
     "text": [
      "Epoch 1/5\n",
      "60000/60000 [==============================] - 1s 15us/step - loss: 2.3773 - acc: 0.0998\n",
      "Epoch 2/5\n",
      "60000/60000 [==============================] - 1s 10us/step - loss: 2.1293 - acc: 0.3216\n",
      "Epoch 3/5\n",
      "60000/60000 [==============================] - 1s 10us/step - loss: 1.8915 - acc: 0.5426\n",
      "Epoch 4/5\n",
      "60000/60000 [==============================] - 1s 10us/step - loss: 1.6761 - acc: 0.6536\n",
      "Epoch 5/5\n",
      "60000/60000 [==============================] - 1s 11us/step - loss: 1.4784 - acc: 0.7034\n"
     ]
    },
    {
     "data": {
      "text/plain": [
       "<tensorflow.python.keras.callbacks.History at 0x1aeaa644828>"
      ]
     },
     "execution_count": 8,
     "metadata": {},
     "output_type": "execute_result"
    }
   ],
   "source": [
    "# Fitting the model\n",
    "model.fit(x_train, y_train, epochs=5, batch_size=32)"
   ]
  },
  {
   "cell_type": "code",
   "execution_count": 9,
   "metadata": {},
   "outputs": [
    {
     "name": "stdout",
     "output_type": "stream",
     "text": [
      "10000/10000 [==============================] - 1s 64us/step\n"
     ]
    },
    {
     "data": {
      "text/plain": [
       "[1.276999604988098, 0.7514]"
      ]
     },
     "execution_count": 9,
     "metadata": {},
     "output_type": "execute_result"
    }
   ],
   "source": [
    "# Evaluating on test set\n",
    "model.evaluate(x_test, y_test)"
   ]
  },
  {
   "cell_type": "markdown",
   "metadata": {},
   "source": [
    "##### Using Session :"
   ]
  },
  {
   "cell_type": "code",
   "execution_count": 10,
   "metadata": {},
   "outputs": [],
   "source": [
    "image_input = tf.placeholder(tf.float32, shape = x_train.shape)\n",
    "image_label = tf.placeholder(tf.int32, shape = y_train.shape)"
   ]
  },
  {
   "cell_type": "code",
   "execution_count": 11,
   "metadata": {},
   "outputs": [],
   "source": [
    "\n",
    "def modelFunc(inputs):\n",
    "    l1 = tf.contrib.layers.flatten(inputs)\n",
    "    l2 = tf.contrib.layers.fully_connected(l1, 512, activation_fn=tf.nn.relu)\n",
    "    l3 = tf.contrib.layers.dropout(l2, keep_prob=0.2)\n",
    "    l4 = tf.contrib.layers.fully_connected(l3, 10, activation_fn=tf.nn.softmax)\n",
    "    return l4\n",
    "\n",
    "image_predict = modelFunc(image_input)\n",
    "\n",
    "loss = tf.reduce_mean(tf.losses.sparse_softmax_cross_entropy(image_label, image_predict))\n",
    "accuracy = tf.reduce_mean(tf.metrics.accuracy(image_label, tf.cast(tf.argmax(image_predict, 1), tf.int32)))\n",
    "\n",
    "weights = tf.get_collection(tf.GraphKeys.TRAINABLE_VARIABLES)\n",
    "\n",
    "optimizer = tf.train.AdamOptimizer(learning_rate = 0.001).minimize(loss, var_list = weights)"
   ]
  },
  {
   "cell_type": "code",
   "execution_count": 12,
   "metadata": {},
   "outputs": [
    {
     "name": "stdout",
     "output_type": "stream",
     "text": [
      "# 0 Loss: 2.2993646 Accuracy: 0.057675\n",
      "# 1 Loss: 2.2639685 Accuracy: 0.1382125\n",
      "# 2 Loss: 2.2192667 Accuracy: 0.18642639\n",
      "# 3 Loss: 2.1699631 Accuracy: 0.23513055\n",
      "# 4 Loss: 2.1223361 Accuracy: 0.27865332\n"
     ]
    }
   ],
   "source": [
    "with tf.Session() as sess:\n",
    "    sess.run(tf.local_variables_initializer())\n",
    "    sess.run(tf.global_variables_initializer())\n",
    "    for i in range(201):\n",
    "        _, loss_value, acc_value, wt_value = sess.run([optimizer, loss, accuracy, weights], feed_dict={image_input: x_train, image_label: y_train})\n",
    "        if i % 20 == 0 :\n",
    "            print(\"#\", i, \"Loss:\", loss_value, \"Accuracy:\", acc_value)"
   ]
  },
  {
   "cell_type": "code",
   "execution_count": 20,
   "metadata": {},
   "outputs": [
    {
     "data": {
      "text/plain": [
       "TensorShape([Dimension(60000)])"
      ]
     },
     "execution_count": 20,
     "metadata": {},
     "output_type": "execute_result"
    }
   ],
   "source": [
    "image_label.shape"
   ]
  },
  {
   "cell_type": "code",
   "execution_count": 9,
   "metadata": {},
   "outputs": [
    {
     "data": {
      "text/plain": [
       "TensorShape([Dimension(60000), Dimension(10)])"
      ]
     },
     "execution_count": 9,
     "metadata": {},
     "output_type": "execute_result"
    }
   ],
   "source": [
    "image_predict.shape"
   ]
  },
  {
   "cell_type": "markdown",
   "metadata": {},
   "source": [
    "### ADDING NOISE TO SINGLE IMAGE"
   ]
  },
  {
   "cell_type": "code",
   "execution_count": 21,
   "metadata": {},
   "outputs": [],
   "source": [
    "# Plots the given image\n",
    "def showImg(image, graphName):\n",
    "    plt.figure()\n",
    "    plt.imshow(image)\n",
    "    plt.colorbar()\n",
    "    plt.grid(False)\n",
    "    plt.title(graphName)\n",
    "\n",
    "# Function keeps adding random noise to each pixel of given image until model misclassifies\n",
    "def noiseTillMisclassifySingle(testImg, trueVal, scalingFactor):\n",
    "    noOfIter = 0\n",
    "    while np.argmax(model.predict(testImg)[0]) == trueVal:\n",
    "        # Generate random noise from gaussian distribution with mean 0 and std dev 1\n",
    "        noise = np.random.normal(loc=0.0, scale=1.0, size=(28,28))\n",
    "        # Scales the noise accordingly (since all images initially were scaled from [0,255] to [0,1])\n",
    "        noise = noise/scalingFactor\n",
    "        # Add noise to image\n",
    "        testImg[0] = testImg[0] + noise\n",
    "        noOfIter += 1\n",
    "    # Returns the number of iterations it took to misclassify\n",
    "    return noOfIter\n",
    "\n",
    "def singleMain(imgIndex, scalingFactor):\n",
    "    # Image to which noise is to be added\n",
    "    faultImg = np.copy(x_test[imgIndex : (imgIndex + 1)])\n",
    "    # True value of image\n",
    "    trueVal = np.copy(y_test[imgIndex : (imgIndex + 1)])\n",
    "    \n",
    "    noOfIter = noiseTillMisclassifySingle(faultImg, trueVal, scalingFactor)\n",
    "    showImg(faultImg[0], str('Noise added misclassified image ('+str(scalingFactor)+')'))\n",
    "    print('With scaling factor =', scalingFactor, ' No. of iterations to misclassify :', noOfIter)"
   ]
  },
  {
   "cell_type": "code",
   "execution_count": 22,
   "metadata": {},
   "outputs": [
    {
     "name": "stdout",
     "output_type": "stream",
     "text": [
      "With scaling factor = 255.0  No. of iterations to misclassify : 28609\n",
      "With scaling factor = 50.0  No. of iterations to misclassify : 315\n",
      "With scaling factor = 10.0  No. of iterations to misclassify : 109\n",
      "With scaling factor = 2.0  No. of iterations to misclassify : 24\n"
     ]
    },
    {
     "data": {
      "image/png": "[encoded data removed]",
      "text/plain": [
       "<Figure size 432x288 with 2 Axes>"
      ]
     },
     "metadata": {
      "needs_background": "light"
     },
     "output_type": "display_data"
    },
    {
     "data": {
      "image/png": "[encoded data removed]",
      "text/plain": [
       "<Figure size 432x288 with 2 Axes>"
      ]
     },
     "metadata": {
      "needs_background": "light"
     },
     "output_type": "display_data"
    },
    {
     "data": {
      "image/png": "[encoded data removed]",
      "text/plain": [
       "<Figure size 432x288 with 2 Axes>"
      ]
     },
     "metadata": {
      "needs_background": "light"
     },
     "output_type": "display_data"
    },
    {
     "data": {
      "image/png": "[encoded data removed]",
      "text/plain": [
       "<Figure size 432x288 with 2 Axes>"
      ]
     },
     "metadata": {
      "needs_background": "light"
     },
     "output_type": "display_data"
    },
    {
     "data": {
      "image/png": "[encoded data removed]",
      "text/plain": [
       "<Figure size 432x288 with 2 Axes>"
      ]
     },
     "metadata": {
      "needs_background": "light"
     },
     "output_type": "display_data"
    }
   ],
   "source": [
    "# Different images take different number of iterations to misclassify (run this cell multiple times to check)\n",
    "randomIndex = np.random.randint(low=0, high=x_test.shape[0])\n",
    "\n",
    "# Trying with different scaling factors for noise\n",
    "scales = [255.0, 50.0, 10.0, 2.0]\n",
    "\n",
    "showImg(x_test[randomIndex : (randomIndex + 1)][0], 'Original Image')\n",
    "for x in scales:\n",
    "    singleMain(randomIndex, x)\n"
   ]
  },
  {
   "cell_type": "markdown",
   "metadata": {},
   "source": [
    "### ADDING NOISE TO COMPLETE SET"
   ]
  },
  {
   "cell_type": "code",
   "execution_count": 26,
   "metadata": {},
   "outputs": [],
   "source": [
    "def noiseTillMisclassifyMultiple(faultImgColl, trueValColl, thresAccu, scalingFactor):\n",
    "    noOfIter = 0\n",
    "    # Keep adding noise till accuracy of model drops to thresAccu\n",
    "    while model.evaluate(faultImgColl, trueValColl, verbose=0)[1] > thresAccu:\n",
    "        noiseColl = np.random.normal(loc=0.0, scale=1.0, size=(x_test.shape[0], 28,28))\n",
    "        noiseColl = noiseColl/scalingFactor\n",
    "        faultImgColl = faultImgColl + noiseColl\n",
    "        noOfIter += 1\n",
    "    return noOfIter\n"
   ]
  },
  {
   "cell_type": "code",
   "execution_count": 27,
   "metadata": {},
   "outputs": [
    {
     "name": "stdout",
     "output_type": "stream",
     "text": [
      "With scaling factor = 50.0  No. of iterations to drop accuracy to 0.95 is 148\n",
      "With scaling factor = 50.0  No. of iterations to drop accuracy to 0.9 is 336\n",
      "With scaling factor = 50.0  No. of iterations to drop accuracy to 0.85 is 499\n",
      "With scaling factor = 50.0  No. of iterations to drop accuracy to 0.8 is 665\n",
      "With scaling factor = 10.0  No. of iterations to drop accuracy to 0.95 is 7\n",
      "With scaling factor = 10.0  No. of iterations to drop accuracy to 0.9 is 14\n",
      "With scaling factor = 10.0  No. of iterations to drop accuracy to 0.85 is 20\n",
      "With scaling factor = 10.0  No. of iterations to drop accuracy to 0.8 is 26\n",
      "With scaling factor = 2.0  No. of iterations to drop accuracy to 0.95 is 1\n",
      "With scaling factor = 2.0  No. of iterations to drop accuracy to 0.9 is 1\n",
      "With scaling factor = 2.0  No. of iterations to drop accuracy to 0.85 is 1\n",
      "With scaling factor = 2.0  No. of iterations to drop accuracy to 0.8 is 2\n"
     ]
    }
   ],
   "source": [
    "faultImgColl = np.copy(x_test)\n",
    "trueValColl = np.copy(y_test)\n",
    "\n",
    "# We need to keep adding noise till model accuracy drops to threshold accuracy\n",
    "thresholdAccuracies = [0.95, 0.90, 0.85, 0.80]\n",
    "# Scaling factor for noise\n",
    "scalingFactors = [50.0, 10.0, 2.0]\n",
    "\n",
    "for scale in scalingFactors:\n",
    "    for thresh in thresholdAccuracies:\n",
    "        noOfIter = noiseTillMisclassifyMultiple(faultImgColl, trueValColl, thresh, scale)\n",
    "        print('With scaling factor =', scale, ' No. of iterations to drop accuracy to', thresh, 'is', noOfIter)"
   ]
  }
 ],
 "metadata": {
  "kernelspec": {
   "display_name": "Python 3",
   "language": "python",
   "name": "python3"
  },
  "language_info": {
   "codemirror_mode": {
    "name": "ipython",
    "version": 3
   },
   "file_extension": ".py",
   "mimetype": "text/x-python",
   "name": "python",
   "nbconvert_exporter": "python",
   "pygments_lexer": "ipython3",
   "version": "3.6.7"
  }
 },
 "nbformat": 4,
 "nbformat_minor": 2
}
