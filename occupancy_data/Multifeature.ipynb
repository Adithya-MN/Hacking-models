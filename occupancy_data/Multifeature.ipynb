{
 "cells": [
  {
   "cell_type": "code",
   "execution_count": 1,
   "metadata": {},
   "outputs": [
    {
     "name": "stderr",
     "output_type": "stream",
     "text": [
      "/home/akash/anaconda3/lib/python3.6/site-packages/h5py/__init__.py:36: FutureWarning: Conversion of the second argument of issubdtype from `float` to `np.floating` is deprecated. In future, it will be treated as `np.float64 == np.dtype(float).type`.\n",
      "  from ._conv import register_converters as _register_converters\n"
     ]
    }
   ],
   "source": [
    "import seaborn as sns\n",
    "import pandas as pd\n",
    "import matplotlib.pyplot as plt\n",
    "import tensorflow as tf\n",
    "import numpy as np"
   ]
  },
  {
   "cell_type": "code",
   "execution_count": 2,
   "metadata": {},
   "outputs": [],
   "source": [
    "tf.enable_eager_execution()"
   ]
  },
  {
   "cell_type": "markdown",
   "metadata": {},
   "source": [
    "### Data import "
   ]
  },
  {
   "cell_type": "code",
   "execution_count": 3,
   "metadata": {},
   "outputs": [],
   "source": [
    "data = pd.read_csv('datatraining.csv')"
   ]
  },
  {
   "cell_type": "code",
   "execution_count": 4,
   "metadata": {},
   "outputs": [],
   "source": [
    "data.drop(columns= ['date'], inplace=True)"
   ]
  },
  {
   "cell_type": "code",
   "execution_count": 5,
   "metadata": {},
   "outputs": [
    {
     "data": {
      "text/html": [
       "<div>\n",
       "<style scoped>\n",
       "    .dataframe tbody tr th:only-of-type {\n",
       "        vertical-align: middle;\n",
       "    }\n",
       "\n",
       "    .dataframe tbody tr th {\n",
       "        vertical-align: top;\n",
       "    }\n",
       "\n",
       "    .dataframe thead th {\n",
       "        text-align: right;\n",
       "    }\n",
       "</style>\n",
       "<table border=\"1\" class=\"dataframe\">\n",
       "  <thead>\n",
       "    <tr style=\"text-align: right;\">\n",
       "      <th></th>\n",
       "      <th>Temperature</th>\n",
       "      <th>Humidity</th>\n",
       "      <th>Light</th>\n",
       "      <th>CO2</th>\n",
       "      <th>HumidityRatio</th>\n",
       "      <th>Occupancy</th>\n",
       "    </tr>\n",
       "  </thead>\n",
       "  <tbody>\n",
       "    <tr>\n",
       "      <th>1</th>\n",
       "      <td>23.18</td>\n",
       "      <td>27.2720</td>\n",
       "      <td>426.0</td>\n",
       "      <td>721.25</td>\n",
       "      <td>0.004793</td>\n",
       "      <td>1</td>\n",
       "    </tr>\n",
       "    <tr>\n",
       "      <th>2</th>\n",
       "      <td>23.15</td>\n",
       "      <td>27.2675</td>\n",
       "      <td>429.5</td>\n",
       "      <td>714.00</td>\n",
       "      <td>0.004783</td>\n",
       "      <td>1</td>\n",
       "    </tr>\n",
       "    <tr>\n",
       "      <th>3</th>\n",
       "      <td>23.15</td>\n",
       "      <td>27.2450</td>\n",
       "      <td>426.0</td>\n",
       "      <td>713.50</td>\n",
       "      <td>0.004779</td>\n",
       "      <td>1</td>\n",
       "    </tr>\n",
       "    <tr>\n",
       "      <th>4</th>\n",
       "      <td>23.15</td>\n",
       "      <td>27.2000</td>\n",
       "      <td>426.0</td>\n",
       "      <td>708.25</td>\n",
       "      <td>0.004772</td>\n",
       "      <td>1</td>\n",
       "    </tr>\n",
       "    <tr>\n",
       "      <th>5</th>\n",
       "      <td>23.10</td>\n",
       "      <td>27.2000</td>\n",
       "      <td>426.0</td>\n",
       "      <td>704.50</td>\n",
       "      <td>0.004757</td>\n",
       "      <td>1</td>\n",
       "    </tr>\n",
       "  </tbody>\n",
       "</table>\n",
       "</div>"
      ],
      "text/plain": [
       "   Temperature  Humidity  Light     CO2  HumidityRatio  Occupancy\n",
       "1        23.18   27.2720  426.0  721.25       0.004793          1\n",
       "2        23.15   27.2675  429.5  714.00       0.004783          1\n",
       "3        23.15   27.2450  426.0  713.50       0.004779          1\n",
       "4        23.15   27.2000  426.0  708.25       0.004772          1\n",
       "5        23.10   27.2000  426.0  704.50       0.004757          1"
      ]
     },
     "execution_count": 5,
     "metadata": {},
     "output_type": "execute_result"
    }
   ],
   "source": [
    "data.head()"
   ]
  },
  {
   "cell_type": "code",
   "execution_count": 6,
   "metadata": {},
   "outputs": [
    {
     "name": "stdout",
     "output_type": "stream",
     "text": [
      "<class 'pandas.core.frame.DataFrame'>\n",
      "Int64Index: 8143 entries, 1 to 8143\n",
      "Data columns (total 6 columns):\n",
      "Temperature      8143 non-null float64\n",
      "Humidity         8143 non-null float64\n",
      "Light            8143 non-null float64\n",
      "CO2              8143 non-null float64\n",
      "HumidityRatio    8143 non-null float64\n",
      "Occupancy        8143 non-null int64\n",
      "dtypes: float64(5), int64(1)\n",
      "memory usage: 445.3 KB\n"
     ]
    }
   ],
   "source": [
    "data.info()"
   ]
  },
  {
   "cell_type": "code",
   "execution_count": 7,
   "metadata": {},
   "outputs": [
    {
     "data": {
      "text/html": [
       "<div>\n",
       "<style scoped>\n",
       "    .dataframe tbody tr th:only-of-type {\n",
       "        vertical-align: middle;\n",
       "    }\n",
       "\n",
       "    .dataframe tbody tr th {\n",
       "        vertical-align: top;\n",
       "    }\n",
       "\n",
       "    .dataframe thead th {\n",
       "        text-align: right;\n",
       "    }\n",
       "</style>\n",
       "<table border=\"1\" class=\"dataframe\">\n",
       "  <thead>\n",
       "    <tr style=\"text-align: right;\">\n",
       "      <th></th>\n",
       "      <th>Temperature</th>\n",
       "      <th>Humidity</th>\n",
       "      <th>Light</th>\n",
       "      <th>CO2</th>\n",
       "      <th>HumidityRatio</th>\n",
       "      <th>Occupancy</th>\n",
       "    </tr>\n",
       "  </thead>\n",
       "  <tbody>\n",
       "    <tr>\n",
       "      <th>count</th>\n",
       "      <td>8143.000000</td>\n",
       "      <td>8143.000000</td>\n",
       "      <td>8143.000000</td>\n",
       "      <td>8143.000000</td>\n",
       "      <td>8143.000000</td>\n",
       "      <td>8143.000000</td>\n",
       "    </tr>\n",
       "    <tr>\n",
       "      <th>mean</th>\n",
       "      <td>20.619084</td>\n",
       "      <td>25.731507</td>\n",
       "      <td>119.519375</td>\n",
       "      <td>606.546243</td>\n",
       "      <td>0.003863</td>\n",
       "      <td>0.212330</td>\n",
       "    </tr>\n",
       "    <tr>\n",
       "      <th>std</th>\n",
       "      <td>1.016916</td>\n",
       "      <td>5.531211</td>\n",
       "      <td>194.755805</td>\n",
       "      <td>314.320877</td>\n",
       "      <td>0.000852</td>\n",
       "      <td>0.408982</td>\n",
       "    </tr>\n",
       "    <tr>\n",
       "      <th>min</th>\n",
       "      <td>19.000000</td>\n",
       "      <td>16.745000</td>\n",
       "      <td>0.000000</td>\n",
       "      <td>412.750000</td>\n",
       "      <td>0.002674</td>\n",
       "      <td>0.000000</td>\n",
       "    </tr>\n",
       "    <tr>\n",
       "      <th>25%</th>\n",
       "      <td>19.700000</td>\n",
       "      <td>20.200000</td>\n",
       "      <td>0.000000</td>\n",
       "      <td>439.000000</td>\n",
       "      <td>0.003078</td>\n",
       "      <td>0.000000</td>\n",
       "    </tr>\n",
       "    <tr>\n",
       "      <th>50%</th>\n",
       "      <td>20.390000</td>\n",
       "      <td>26.222500</td>\n",
       "      <td>0.000000</td>\n",
       "      <td>453.500000</td>\n",
       "      <td>0.003801</td>\n",
       "      <td>0.000000</td>\n",
       "    </tr>\n",
       "    <tr>\n",
       "      <th>75%</th>\n",
       "      <td>21.390000</td>\n",
       "      <td>30.533333</td>\n",
       "      <td>256.375000</td>\n",
       "      <td>638.833333</td>\n",
       "      <td>0.004352</td>\n",
       "      <td>0.000000</td>\n",
       "    </tr>\n",
       "    <tr>\n",
       "      <th>max</th>\n",
       "      <td>23.180000</td>\n",
       "      <td>39.117500</td>\n",
       "      <td>1546.333333</td>\n",
       "      <td>2028.500000</td>\n",
       "      <td>0.006476</td>\n",
       "      <td>1.000000</td>\n",
       "    </tr>\n",
       "  </tbody>\n",
       "</table>\n",
       "</div>"
      ],
      "text/plain": [
       "       Temperature     Humidity        Light          CO2  HumidityRatio  \\\n",
       "count  8143.000000  8143.000000  8143.000000  8143.000000    8143.000000   \n",
       "mean     20.619084    25.731507   119.519375   606.546243       0.003863   \n",
       "std       1.016916     5.531211   194.755805   314.320877       0.000852   \n",
       "min      19.000000    16.745000     0.000000   412.750000       0.002674   \n",
       "25%      19.700000    20.200000     0.000000   439.000000       0.003078   \n",
       "50%      20.390000    26.222500     0.000000   453.500000       0.003801   \n",
       "75%      21.390000    30.533333   256.375000   638.833333       0.004352   \n",
       "max      23.180000    39.117500  1546.333333  2028.500000       0.006476   \n",
       "\n",
       "         Occupancy  \n",
       "count  8143.000000  \n",
       "mean      0.212330  \n",
       "std       0.408982  \n",
       "min       0.000000  \n",
       "25%       0.000000  \n",
       "50%       0.000000  \n",
       "75%       0.000000  \n",
       "max       1.000000  "
      ]
     },
     "execution_count": 7,
     "metadata": {},
     "output_type": "execute_result"
    }
   ],
   "source": [
    "cols = list(data.columns)\n",
    "cols.remove('Occupancy')\n",
    "data.describe()"
   ]
  },
  {
   "cell_type": "code",
   "execution_count": 8,
   "metadata": {},
   "outputs": [],
   "source": [
    "X = data[cols]"
   ]
  },
  {
   "cell_type": "code",
   "execution_count": 9,
   "metadata": {},
   "outputs": [],
   "source": [
    "from sklearn.preprocessing import StandardScaler\n",
    "scaler = StandardScaler()\n",
    "X1 = pd.DataFrame(scaler.fit_transform(X), columns=cols)\n",
    "Y = data['Occupancy']"
   ]
  },
  {
   "cell_type": "code",
   "execution_count": 10,
   "metadata": {},
   "outputs": [],
   "source": [
    "train_data = X1.join(Y)"
   ]
  },
  {
   "cell_type": "code",
   "execution_count": 11,
   "metadata": {},
   "outputs": [],
   "source": [
    "for i in train_data.columns:\n",
    "    train_data.fillna(method='bfill', inplace=True)\n",
    "    train_data.fillna(method='ffill', inplace=True)"
   ]
  },
  {
   "cell_type": "code",
   "execution_count": 12,
   "metadata": {},
   "outputs": [
    {
     "data": {
      "text/plain": [
       "0.0    6414\n",
       "1.0    1729\n",
       "Name: Occupancy, dtype: int64"
      ]
     },
     "execution_count": 12,
     "metadata": {},
     "output_type": "execute_result"
    }
   ],
   "source": [
    "train_data['Occupancy'].value_counts()"
   ]
  },
  {
   "cell_type": "markdown",
   "metadata": {},
   "source": [
    "### TRAINING MODELS"
   ]
  },
  {
   "cell_type": "code",
   "execution_count": 13,
   "metadata": {},
   "outputs": [],
   "source": [
    "from tensorflow import keras"
   ]
  },
  {
   "cell_type": "code",
   "execution_count": 14,
   "metadata": {},
   "outputs": [],
   "source": [
    "classifierModel = tf.keras.models.Sequential([\n",
    "  tf.keras.layers.Dense(5, activation=tf.nn.relu),\n",
    "  tf.keras.layers.Dropout(0.4),\n",
    "  tf.keras.layers.Dense(256, activation=tf.nn.relu),\n",
    "  tf.keras.layers.Dropout(0.4),\n",
    "  tf.keras.layers.Dense(128, activation=tf.nn.relu),\n",
    "  tf.keras.layers.Dropout(0.2),\n",
    "  tf.keras.layers.Dense(2, activation=tf.nn.softmax)\n",
    "])\n",
    "classifierModel.compile(optimizer=tf.train.AdamOptimizer(),\n",
    "             loss='sparse_categorical_crossentropy',\n",
    "             metrics=['accuracy'])"
   ]
  },
  {
   "cell_type": "code",
   "execution_count": 15,
   "metadata": {},
   "outputs": [
    {
     "name": "stdout",
     "output_type": "stream",
     "text": [
      "Epoch 1/100\n",
      "131/131 [==============================] - 1s 7ms/step - loss: 0.3435 - acc: 0.8913 - val_loss: 0.2522 - val_acc: 0.8999\n",
      "Epoch 2/100\n",
      "131/131 [==============================] - 1s 5ms/step - loss: 0.2087 - acc: 0.9279 - val_loss: 0.2503 - val_acc: 0.9048\n",
      "Epoch 3/100\n",
      "131/131 [==============================] - 1s 5ms/step - loss: 0.1697 - acc: 0.9435 - val_loss: 0.2068 - val_acc: 0.9153\n",
      "Epoch 4/100\n",
      "131/131 [==============================] - 1s 5ms/step - loss: 0.1797 - acc: 0.9382 - val_loss: 0.2099 - val_acc: 0.9177\n",
      "Epoch 5/100\n",
      "131/131 [==============================] - 1s 5ms/step - loss: 0.1466 - acc: 0.9527 - val_loss: 0.2380 - val_acc: 0.9214\n",
      "Epoch 6/100\n",
      "131/131 [==============================] - 1s 5ms/step - loss: 0.1447 - acc: 0.9531 - val_loss: 0.2031 - val_acc: 0.9208\n",
      "Epoch 7/100\n",
      "131/131 [==============================] - 1s 5ms/step - loss: 0.1439 - acc: 0.9540 - val_loss: 0.2127 - val_acc: 0.9282\n",
      "Epoch 8/100\n",
      "131/131 [==============================] - 1s 5ms/step - loss: 0.1352 - acc: 0.9574 - val_loss: 0.2144 - val_acc: 0.9263\n",
      "Epoch 9/100\n",
      "131/131 [==============================] - 1s 5ms/step - loss: 0.1409 - acc: 0.9580 - val_loss: 0.2096 - val_acc: 0.9343\n",
      "Epoch 10/100\n",
      "131/131 [==============================] - 1s 5ms/step - loss: 0.1422 - acc: 0.9573 - val_loss: 0.1845 - val_acc: 0.9337\n",
      "Epoch 11/100\n",
      "131/131 [==============================] - 1s 5ms/step - loss: 0.1413 - acc: 0.9579 - val_loss: 0.1821 - val_acc: 0.9282\n",
      "Epoch 12/100\n",
      "131/131 [==============================] - 1s 5ms/step - loss: 0.1324 - acc: 0.9595 - val_loss: 0.1834 - val_acc: 0.9257\n",
      "Epoch 13/100\n",
      "131/131 [==============================] - 1s 5ms/step - loss: 0.1226 - acc: 0.9614 - val_loss: 0.1749 - val_acc: 0.9355\n",
      "Epoch 14/100\n",
      "131/131 [==============================] - 1s 5ms/step - loss: 0.1339 - acc: 0.9591 - val_loss: 0.1848 - val_acc: 0.9319\n",
      "Epoch 15/100\n",
      "131/131 [==============================] - 1s 5ms/step - loss: 0.1234 - acc: 0.9631 - val_loss: 0.1730 - val_acc: 0.9331\n",
      "Epoch 16/100\n",
      "131/131 [==============================] - 1s 5ms/step - loss: 0.1238 - acc: 0.9650 - val_loss: 0.1631 - val_acc: 0.9405\n",
      "Epoch 17/100\n",
      "131/131 [==============================] - 1s 5ms/step - loss: 0.1178 - acc: 0.9656 - val_loss: 0.1620 - val_acc: 0.9429\n",
      "Epoch 18/100\n",
      "131/131 [==============================] - 1s 5ms/step - loss: 0.1152 - acc: 0.9675 - val_loss: 0.1493 - val_acc: 0.9503\n",
      "Epoch 19/100\n",
      "131/131 [==============================] - 1s 5ms/step - loss: 0.1147 - acc: 0.9647 - val_loss: 0.1488 - val_acc: 0.9405\n",
      "Epoch 20/100\n",
      "131/131 [==============================] - 1s 5ms/step - loss: 0.1096 - acc: 0.9696 - val_loss: 0.1427 - val_acc: 0.9515\n",
      "Epoch 21/100\n",
      "131/131 [==============================] - 1s 5ms/step - loss: 0.1073 - acc: 0.9684 - val_loss: 0.1376 - val_acc: 0.9503\n",
      "Epoch 22/100\n",
      "131/131 [==============================] - 1s 5ms/step - loss: 0.1037 - acc: 0.9724 - val_loss: 0.1632 - val_acc: 0.9472\n",
      "Epoch 23/100\n",
      "131/131 [==============================] - 1s 5ms/step - loss: 0.1077 - acc: 0.9711 - val_loss: 0.1460 - val_acc: 0.9527\n",
      "Epoch 24/100\n",
      "131/131 [==============================] - 1s 5ms/step - loss: 0.1005 - acc: 0.9736 - val_loss: 0.1289 - val_acc: 0.9533\n",
      "Epoch 25/100\n",
      "131/131 [==============================] - 1s 5ms/step - loss: 0.1021 - acc: 0.9730 - val_loss: 0.1521 - val_acc: 0.9546\n",
      "Epoch 26/100\n",
      "131/131 [==============================] - 1s 5ms/step - loss: 0.0955 - acc: 0.9756 - val_loss: 0.1381 - val_acc: 0.9533\n",
      "Epoch 27/100\n",
      "131/131 [==============================] - 1s 6ms/step - loss: 0.0981 - acc: 0.9754 - val_loss: 0.1373 - val_acc: 0.9589\n",
      "Epoch 28/100\n",
      "131/131 [==============================] - 1s 9ms/step - loss: 0.1077 - acc: 0.9724 - val_loss: 0.1372 - val_acc: 0.9583\n",
      "Epoch 29/100\n",
      "131/131 [==============================] - 1s 9ms/step - loss: 0.0918 - acc: 0.9757 - val_loss: 0.1524 - val_acc: 0.9558\n",
      "Epoch 30/100\n",
      "131/131 [==============================] - 1s 6ms/step - loss: 0.0975 - acc: 0.9736 - val_loss: 0.1438 - val_acc: 0.9626\n",
      "Epoch 31/100\n",
      "131/131 [==============================] - 1s 5ms/step - loss: 0.0997 - acc: 0.9727 - val_loss: 0.1311 - val_acc: 0.9607\n",
      "Epoch 32/100\n",
      "131/131 [==============================] - 1s 5ms/step - loss: 0.0963 - acc: 0.9744 - val_loss: 0.1193 - val_acc: 0.9601\n",
      "Epoch 33/100\n",
      "131/131 [==============================] - 1s 5ms/step - loss: 0.0944 - acc: 0.9744 - val_loss: 0.1461 - val_acc: 0.9638\n",
      "Epoch 34/100\n",
      "131/131 [==============================] - 1s 5ms/step - loss: 0.1010 - acc: 0.9734 - val_loss: 0.1444 - val_acc: 0.9454\n",
      "Epoch 35/100\n",
      "131/131 [==============================] - 1s 5ms/step - loss: 0.0905 - acc: 0.9754 - val_loss: 0.1476 - val_acc: 0.9466\n",
      "Epoch 36/100\n",
      "131/131 [==============================] - 1s 5ms/step - loss: 0.0889 - acc: 0.9773 - val_loss: 0.1391 - val_acc: 0.9509\n",
      "Epoch 37/100\n",
      "131/131 [==============================] - 1s 5ms/step - loss: 0.0918 - acc: 0.9754 - val_loss: 0.1454 - val_acc: 0.9521\n",
      "Epoch 38/100\n",
      "131/131 [==============================] - 1s 5ms/step - loss: 0.0889 - acc: 0.9753 - val_loss: 0.1547 - val_acc: 0.9441\n",
      "Epoch 39/100\n",
      "131/131 [==============================] - 1s 5ms/step - loss: 0.0938 - acc: 0.9740 - val_loss: 0.1465 - val_acc: 0.9454\n",
      "Epoch 40/100\n",
      "131/131 [==============================] - 1s 5ms/step - loss: 0.0895 - acc: 0.9751 - val_loss: 0.1346 - val_acc: 0.9613\n",
      "Epoch 41/100\n",
      "131/131 [==============================] - 1s 5ms/step - loss: 0.0923 - acc: 0.9733 - val_loss: 0.1406 - val_acc: 0.9490\n",
      "Epoch 42/100\n",
      "131/131 [==============================] - 1s 5ms/step - loss: 0.0871 - acc: 0.9762 - val_loss: 0.1766 - val_acc: 0.9349\n",
      "Epoch 43/100\n",
      "131/131 [==============================] - 1s 5ms/step - loss: 0.0855 - acc: 0.9762 - val_loss: 0.1876 - val_acc: 0.9540\n",
      "Epoch 44/100\n",
      "131/131 [==============================] - 1s 5ms/step - loss: 0.0874 - acc: 0.9750 - val_loss: 0.1475 - val_acc: 0.9460\n",
      "Epoch 45/100\n",
      "131/131 [==============================] - 1s 5ms/step - loss: 0.0934 - acc: 0.9736 - val_loss: 0.1364 - val_acc: 0.9546\n",
      "Epoch 46/100\n",
      "131/131 [==============================] - 1s 5ms/step - loss: 0.0885 - acc: 0.9751 - val_loss: 0.1544 - val_acc: 0.9441\n",
      "Epoch 47/100\n",
      "131/131 [==============================] - 1s 5ms/step - loss: 0.0926 - acc: 0.9745 - val_loss: 0.1479 - val_acc: 0.9448\n",
      "Epoch 48/100\n",
      "131/131 [==============================] - 1s 5ms/step - loss: 0.0913 - acc: 0.9747 - val_loss: 0.1621 - val_acc: 0.9423\n",
      "Epoch 49/100\n",
      "131/131 [==============================] - 1s 5ms/step - loss: 0.0879 - acc: 0.9751 - val_loss: 0.1776 - val_acc: 0.9337\n",
      "Epoch 50/100\n",
      "131/131 [==============================] - 1s 5ms/step - loss: 0.0927 - acc: 0.9737 - val_loss: 0.1539 - val_acc: 0.9435\n",
      "Epoch 51/100\n",
      "131/131 [==============================] - 1s 5ms/step - loss: 0.0945 - acc: 0.9740 - val_loss: 0.1703 - val_acc: 0.9355\n",
      "Epoch 52/100\n",
      "131/131 [==============================] - 1s 5ms/step - loss: 0.0878 - acc: 0.9751 - val_loss: 0.1599 - val_acc: 0.9417\n",
      "Epoch 53/100\n",
      "131/131 [==============================] - 1s 6ms/step - loss: 0.0888 - acc: 0.9745 - val_loss: 0.1517 - val_acc: 0.9435\n",
      "Epoch 54/100\n",
      "131/131 [==============================] - 1s 9ms/step - loss: 0.0809 - acc: 0.9765 - val_loss: 0.1602 - val_acc: 0.9417\n",
      "Epoch 55/100\n",
      "131/131 [==============================] - 1s 9ms/step - loss: 0.0805 - acc: 0.9776 - val_loss: 0.1668 - val_acc: 0.9392\n",
      "Epoch 56/100\n",
      "131/131 [==============================] - 1s 6ms/step - loss: 0.0835 - acc: 0.9753 - val_loss: 0.1436 - val_acc: 0.9460\n",
      "Epoch 57/100\n",
      "131/131 [==============================] - 1s 5ms/step - loss: 0.0896 - acc: 0.9737 - val_loss: 0.1716 - val_acc: 0.9349\n",
      "Epoch 58/100\n",
      "131/131 [==============================] - 1s 5ms/step - loss: 0.0777 - acc: 0.9780 - val_loss: 0.1940 - val_acc: 0.9325\n",
      "Epoch 59/100\n",
      "131/131 [==============================] - 1s 5ms/step - loss: 0.0874 - acc: 0.9760 - val_loss: 0.1824 - val_acc: 0.9312\n",
      "Epoch 60/100\n",
      "131/131 [==============================] - 1s 5ms/step - loss: 0.0802 - acc: 0.9771 - val_loss: 0.1932 - val_acc: 0.9276\n",
      "Epoch 61/100\n",
      "131/131 [==============================] - 1s 5ms/step - loss: 0.0932 - acc: 0.9734 - val_loss: 0.1842 - val_acc: 0.9263\n",
      "Epoch 62/100\n"
     ]
    },
    {
     "name": "stdout",
     "output_type": "stream",
     "text": [
      "131/131 [==============================] - 1s 5ms/step - loss: 0.0918 - acc: 0.9736 - val_loss: 0.1977 - val_acc: 0.9251\n",
      "Epoch 63/100\n",
      "131/131 [==============================] - 1s 5ms/step - loss: 0.0937 - acc: 0.9733 - val_loss: 0.1947 - val_acc: 0.9257\n",
      "Epoch 64/100\n",
      "131/131 [==============================] - 1s 5ms/step - loss: 0.0906 - acc: 0.9734 - val_loss: 0.1767 - val_acc: 0.9282\n",
      "Epoch 65/100\n",
      "131/131 [==============================] - 1s 5ms/step - loss: 0.0810 - acc: 0.9757 - val_loss: 0.2093 - val_acc: 0.9245\n",
      "Epoch 66/100\n",
      "131/131 [==============================] - 1s 5ms/step - loss: 0.0898 - acc: 0.9737 - val_loss: 0.1885 - val_acc: 0.9269\n",
      "Epoch 67/100\n",
      "131/131 [==============================] - 1s 5ms/step - loss: 0.0790 - acc: 0.9771 - val_loss: 0.1829 - val_acc: 0.9288\n",
      "Epoch 68/100\n",
      "131/131 [==============================] - 1s 5ms/step - loss: 0.0905 - acc: 0.9733 - val_loss: 0.2205 - val_acc: 0.9227\n",
      "Epoch 69/100\n",
      "131/131 [==============================] - 1s 6ms/step - loss: 0.0881 - acc: 0.9754 - val_loss: 0.1846 - val_acc: 0.9257\n",
      "Epoch 70/100\n",
      "131/131 [==============================] - 1s 6ms/step - loss: 0.0859 - acc: 0.9742 - val_loss: 0.1891 - val_acc: 0.9257\n",
      "Epoch 71/100\n",
      "131/131 [==============================] - 1s 6ms/step - loss: 0.0916 - acc: 0.9728 - val_loss: 0.1957 - val_acc: 0.9245\n",
      "Epoch 72/100\n",
      "131/131 [==============================] - 1s 5ms/step - loss: 0.0797 - acc: 0.9763 - val_loss: 0.1840 - val_acc: 0.9276\n",
      "Epoch 73/100\n",
      "131/131 [==============================] - 1s 6ms/step - loss: 0.0911 - acc: 0.9728 - val_loss: 0.2256 - val_acc: 0.9227\n",
      "Epoch 74/100\n",
      "131/131 [==============================] - 1s 5ms/step - loss: 0.0837 - acc: 0.9757 - val_loss: 0.1955 - val_acc: 0.9257\n",
      "Epoch 75/100\n",
      "131/131 [==============================] - 1s 5ms/step - loss: 0.0895 - acc: 0.9727 - val_loss: 0.2072 - val_acc: 0.9227\n",
      "Epoch 76/100\n",
      "131/131 [==============================] - 1s 5ms/step - loss: 0.0806 - acc: 0.9763 - val_loss: 0.1656 - val_acc: 0.9294\n",
      "Epoch 77/100\n",
      "131/131 [==============================] - 1s 5ms/step - loss: 0.0822 - acc: 0.9762 - val_loss: 0.1828 - val_acc: 0.9257\n",
      "Epoch 78/100\n",
      "131/131 [==============================] - 1s 5ms/step - loss: 0.0884 - acc: 0.9727 - val_loss: 0.2520 - val_acc: 0.9208\n",
      "Epoch 79/100\n",
      "131/131 [==============================] - 1s 5ms/step - loss: 0.0824 - acc: 0.9753 - val_loss: 0.2192 - val_acc: 0.9227\n",
      "Epoch 80/100\n",
      "131/131 [==============================] - 1s 5ms/step - loss: 0.0848 - acc: 0.9754 - val_loss: 0.1742 - val_acc: 0.9251\n",
      "Epoch 81/100\n",
      "131/131 [==============================] - 1s 6ms/step - loss: 0.0788 - acc: 0.9763 - val_loss: 0.2685 - val_acc: 0.9153\n",
      "Epoch 82/100\n",
      "131/131 [==============================] - 1s 9ms/step - loss: 0.0838 - acc: 0.9747 - val_loss: 0.2589 - val_acc: 0.9165\n",
      "Epoch 83/100\n",
      "131/131 [==============================] - 1s 7ms/step - loss: 0.0848 - acc: 0.9759 - val_loss: 0.2342 - val_acc: 0.9165\n",
      "Epoch 84/100\n",
      "131/131 [==============================] - 1s 5ms/step - loss: 0.0843 - acc: 0.9763 - val_loss: 0.2284 - val_acc: 0.9153\n",
      "Epoch 85/100\n",
      "131/131 [==============================] - 1s 5ms/step - loss: 0.0795 - acc: 0.9774 - val_loss: 0.2043 - val_acc: 0.9214\n",
      "Epoch 86/100\n",
      "131/131 [==============================] - 1s 5ms/step - loss: 0.0816 - acc: 0.9754 - val_loss: 0.2433 - val_acc: 0.9153\n",
      "Epoch 87/100\n",
      "131/131 [==============================] - 1s 5ms/step - loss: 0.0802 - acc: 0.9760 - val_loss: 0.2176 - val_acc: 0.9153\n",
      "Epoch 88/100\n",
      "131/131 [==============================] - 1s 5ms/step - loss: 0.0866 - acc: 0.9756 - val_loss: 0.2259 - val_acc: 0.9165\n",
      "Epoch 89/100\n",
      "131/131 [==============================] - 1s 5ms/step - loss: 0.0889 - acc: 0.9737 - val_loss: 0.2431 - val_acc: 0.9116\n",
      "Epoch 90/100\n",
      "131/131 [==============================] - 1s 5ms/step - loss: 0.0814 - acc: 0.9760 - val_loss: 0.2188 - val_acc: 0.9177\n",
      "Epoch 91/100\n",
      "131/131 [==============================] - 1s 5ms/step - loss: 0.0838 - acc: 0.9747 - val_loss: 0.2199 - val_acc: 0.9177\n",
      "Epoch 92/100\n",
      "131/131 [==============================] - 1s 6ms/step - loss: 0.0800 - acc: 0.9748 - val_loss: 0.2419 - val_acc: 0.9153\n",
      "Epoch 93/100\n",
      "131/131 [==============================] - 1s 5ms/step - loss: 0.0872 - acc: 0.9725 - val_loss: 0.2298 - val_acc: 0.9079\n",
      "Epoch 94/100\n",
      "131/131 [==============================] - 1s 6ms/step - loss: 0.0839 - acc: 0.9753 - val_loss: 0.2304 - val_acc: 0.9128\n",
      "Epoch 95/100\n",
      "131/131 [==============================] - 1s 5ms/step - loss: 0.0849 - acc: 0.9747 - val_loss: 0.2296 - val_acc: 0.9153\n",
      "Epoch 96/100\n",
      "131/131 [==============================] - 1s 5ms/step - loss: 0.0807 - acc: 0.9760 - val_loss: 0.3040 - val_acc: 0.9036\n",
      "Epoch 97/100\n",
      "131/131 [==============================] - 1s 5ms/step - loss: 0.0842 - acc: 0.9756 - val_loss: 0.2551 - val_acc: 0.9061\n",
      "Epoch 98/100\n",
      "131/131 [==============================] - 1s 5ms/step - loss: 0.0833 - acc: 0.9740 - val_loss: 0.1846 - val_acc: 0.9214\n",
      "Epoch 99/100\n",
      "131/131 [==============================] - 1s 7ms/step - loss: 0.0845 - acc: 0.9748 - val_loss: 0.2505 - val_acc: 0.9085\n",
      "Epoch 100/100\n",
      "131/131 [==============================] - 1s 10ms/step - loss: 0.0847 - acc: 0.9733 - val_loss: 0.2228 - val_acc: 0.9067\n"
     ]
    },
    {
     "data": {
      "text/plain": [
       "<tensorflow.python.keras.callbacks.History at 0x7f9499959dd8>"
      ]
     },
     "execution_count": 15,
     "metadata": {},
     "output_type": "execute_result"
    }
   ],
   "source": [
    "classifierModel.fit(np.reshape(train_data[cols].values.astype(np.float64), newshape=(-1,5)), \n",
    "                    np.reshape(train_data['Occupancy'].values.astype(np.int64), newshape=(-1,1)),\n",
    "                    epochs=100, batch_size=50, validation_split=0.2)"
   ]
  },
  {
   "cell_type": "code",
   "execution_count": 16,
   "metadata": {},
   "outputs": [
    {
     "data": {
      "text/html": [
       "<div>\n",
       "<style scoped>\n",
       "    .dataframe tbody tr th:only-of-type {\n",
       "        vertical-align: middle;\n",
       "    }\n",
       "\n",
       "    .dataframe tbody tr th {\n",
       "        vertical-align: top;\n",
       "    }\n",
       "\n",
       "    .dataframe thead th {\n",
       "        text-align: right;\n",
       "    }\n",
       "</style>\n",
       "<table border=\"1\" class=\"dataframe\">\n",
       "  <thead>\n",
       "    <tr style=\"text-align: right;\">\n",
       "      <th></th>\n",
       "      <th>Temperature</th>\n",
       "      <th>Humidity</th>\n",
       "      <th>Light</th>\n",
       "      <th>CO2</th>\n",
       "      <th>HumidityRatio</th>\n",
       "      <th>Occupancy</th>\n",
       "    </tr>\n",
       "  </thead>\n",
       "  <tbody>\n",
       "    <tr>\n",
       "      <th>count</th>\n",
       "      <td>2665.000000</td>\n",
       "      <td>2665.000000</td>\n",
       "      <td>2665.000000</td>\n",
       "      <td>2665.000000</td>\n",
       "      <td>2665.000000</td>\n",
       "      <td>2665.000000</td>\n",
       "    </tr>\n",
       "    <tr>\n",
       "      <th>mean</th>\n",
       "      <td>0.801288</td>\n",
       "      <td>-0.068266</td>\n",
       "      <td>0.378488</td>\n",
       "      <td>0.354310</td>\n",
       "      <td>0.193016</td>\n",
       "      <td>0.364728</td>\n",
       "    </tr>\n",
       "    <tr>\n",
       "      <th>std</th>\n",
       "      <td>1.010985</td>\n",
       "      <td>0.440589</td>\n",
       "      <td>1.284821</td>\n",
       "      <td>0.931213</td>\n",
       "      <td>0.716400</td>\n",
       "      <td>0.481444</td>\n",
       "    </tr>\n",
       "    <tr>\n",
       "      <th>min</th>\n",
       "      <td>-0.412137</td>\n",
       "      <td>-0.656589</td>\n",
       "      <td>-0.613726</td>\n",
       "      <td>-0.569664</td>\n",
       "      <td>-0.656114</td>\n",
       "      <td>0.000000</td>\n",
       "    </tr>\n",
       "    <tr>\n",
       "      <th>25%</th>\n",
       "      <td>0.030404</td>\n",
       "      <td>-0.446857</td>\n",
       "      <td>-0.613726</td>\n",
       "      <td>-0.447170</td>\n",
       "      <td>-0.390747</td>\n",
       "      <td>0.000000</td>\n",
       "    </tr>\n",
       "    <tr>\n",
       "      <th>50%</th>\n",
       "      <td>0.266426</td>\n",
       "      <td>-0.132259</td>\n",
       "      <td>-0.613726</td>\n",
       "      <td>-0.082870</td>\n",
       "      <td>-0.055659</td>\n",
       "      <td>0.000000</td>\n",
       "    </tr>\n",
       "    <tr>\n",
       "      <th>75%</th>\n",
       "      <td>1.708783</td>\n",
       "      <td>0.203433</td>\n",
       "      <td>1.658490</td>\n",
       "      <td>1.112903</td>\n",
       "      <td>0.784987</td>\n",
       "      <td>1.000000</td>\n",
       "    </tr>\n",
       "    <tr>\n",
       "      <th>max</th>\n",
       "      <td>3.726444</td>\n",
       "      <td>1.037991</td>\n",
       "      <td>8.101569</td>\n",
       "      <td>2.531657</td>\n",
       "      <td>1.777883</td>\n",
       "      <td>1.000000</td>\n",
       "    </tr>\n",
       "  </tbody>\n",
       "</table>\n",
       "</div>"
      ],
      "text/plain": [
       "       Temperature     Humidity        Light          CO2  HumidityRatio  \\\n",
       "count  2665.000000  2665.000000  2665.000000  2665.000000    2665.000000   \n",
       "mean      0.801288    -0.068266     0.378488     0.354310       0.193016   \n",
       "std       1.010985     0.440589     1.284821     0.931213       0.716400   \n",
       "min      -0.412137    -0.656589    -0.613726    -0.569664      -0.656114   \n",
       "25%       0.030404    -0.446857    -0.613726    -0.447170      -0.390747   \n",
       "50%       0.266426    -0.132259    -0.613726    -0.082870      -0.055659   \n",
       "75%       1.708783     0.203433     1.658490     1.112903       0.784987   \n",
       "max       3.726444     1.037991     8.101569     2.531657       1.777883   \n",
       "\n",
       "         Occupancy  \n",
       "count  2665.000000  \n",
       "mean      0.364728  \n",
       "std       0.481444  \n",
       "min       0.000000  \n",
       "25%       0.000000  \n",
       "50%       0.000000  \n",
       "75%       1.000000  \n",
       "max       1.000000  "
      ]
     },
     "execution_count": 16,
     "metadata": {},
     "output_type": "execute_result"
    }
   ],
   "source": [
    "test_data = pd.read_csv('datatest.csv')\n",
    "X_test = scaler.transform(test_data[cols])\n",
    "test_data[cols] = X_test\n",
    "test_data.describe()"
   ]
  },
  {
   "cell_type": "code",
   "execution_count": 17,
   "metadata": {},
   "outputs": [
    {
     "name": "stdout",
     "output_type": "stream",
     "text": [
      "84/84 [==============================] - 0s 2ms/step\n"
     ]
    },
    {
     "data": {
      "text/plain": [
       "[0.11797135719446779, 0.9774859287054409]"
      ]
     },
     "execution_count": 17,
     "metadata": {},
     "output_type": "execute_result"
    }
   ],
   "source": [
    "classifierModel.evaluate(test_data[cols].values.astype(np.float64), test_data['Occupancy'].values.astype(np.int64))"
   ]
  },
  {
   "cell_type": "code",
   "execution_count": 18,
   "metadata": {},
   "outputs": [],
   "source": [
    "classifierModel.save_weights('./classifierNNWeights')"
   ]
  },
  {
   "cell_type": "markdown",
   "metadata": {},
   "source": [
    "##### Tensor Forest"
   ]
  },
  {
   "cell_type": "code",
   "execution_count": 19,
   "metadata": {},
   "outputs": [
    {
     "name": "stdout",
     "output_type": "stream",
     "text": [
      "WARNING:tensorflow:From /home/akash/anaconda3/lib/python3.6/site-packages/tensorflow/contrib/tensor_forest/client/random_forest.py:130: multi_class_head (from tensorflow.contrib.learn.python.learn.estimators.head) is deprecated and will be removed in a future version.\n",
      "Instructions for updating:\n",
      "Please switch to tf.contrib.estimator.*_head.\n",
      "WARNING:tensorflow:From /home/akash/anaconda3/lib/python3.6/site-packages/tensorflow/contrib/learn/python/learn/estimators/estimator.py:1180: BaseEstimator.__init__ (from tensorflow.contrib.learn.python.learn.estimators.estimator) is deprecated and will be removed in a future version.\n",
      "Instructions for updating:\n",
      "Please replace uses of any Estimator from tf.contrib.learn with an Estimator from tf.estimator.*\n",
      "WARNING:tensorflow:From /home/akash/anaconda3/lib/python3.6/site-packages/tensorflow/contrib/learn/python/learn/estimators/estimator.py:428: RunConfig.__init__ (from tensorflow.contrib.learn.python.learn.estimators.run_config) is deprecated and will be removed in a future version.\n",
      "Instructions for updating:\n",
      "When switching to tf.estimator.Estimator, use tf.estimator.RunConfig instead.\n",
      "INFO:tensorflow:Using default config.\n",
      "WARNING:tensorflow:Using temporary folder as model directory: /tmp/tmptquxgb0a\n",
      "INFO:tensorflow:Using config: {'_task_type': None, '_task_id': 0, '_cluster_spec': <tensorflow.python.training.server_lib.ClusterSpec object at 0x7f93fb56bb38>, '_master': '', '_num_ps_replicas': 0, '_num_worker_replicas': 0, '_environment': 'local', '_is_chief': True, '_evaluation_master': '', '_train_distribute': None, '_eval_distribute': None, '_device_fn': None, '_tf_config': gpu_options {\n",
      "  per_process_gpu_memory_fraction: 1.0\n",
      "}\n",
      ", '_tf_random_seed': None, '_save_summary_steps': 100, '_save_checkpoints_secs': 600, '_log_step_count_steps': 100, '_protocol': None, '_session_config': None, '_save_checkpoints_steps': None, '_keep_checkpoint_max': 5, '_keep_checkpoint_every_n_hours': 10000, '_model_dir': '/tmp/tmptquxgb0a'}\n",
      "WARNING:tensorflow:From /home/akash/anaconda3/lib/python3.6/site-packages/tensorflow/contrib/learn/python/learn/estimators/estimator.py:509: SKCompat.__init__ (from tensorflow.contrib.learn.python.learn.estimators.estimator) is deprecated and will be removed in a future version.\n",
      "Instructions for updating:\n",
      "Please switch to the Estimator interface.\n",
      "WARNING:tensorflow:From /home/akash/anaconda3/lib/python3.6/site-packages/tensorflow/contrib/learn/python/learn/estimators/estimator.py:143: setup_train_data_feeder (from tensorflow.contrib.learn.python.learn.learn_io.data_feeder) is deprecated and will be removed in a future version.\n",
      "Instructions for updating:\n",
      "Please use tensorflow/transform or tf.data.\n",
      "WARNING:tensorflow:From /home/akash/anaconda3/lib/python3.6/site-packages/tensorflow/contrib/learn/python/learn/learn_io/data_feeder.py:96: extract_dask_data (from tensorflow.contrib.learn.python.learn.learn_io.dask_io) is deprecated and will be removed in a future version.\n",
      "Instructions for updating:\n",
      "Please feed input to tf.data to support dask.\n",
      "WARNING:tensorflow:From /home/akash/anaconda3/lib/python3.6/site-packages/tensorflow/contrib/learn/python/learn/learn_io/data_feeder.py:98: extract_dask_labels (from tensorflow.contrib.learn.python.learn.learn_io.dask_io) is deprecated and will be removed in a future version.\n",
      "Instructions for updating:\n",
      "Please feed input to tf.data to support dask.\n",
      "WARNING:tensorflow:From /home/akash/anaconda3/lib/python3.6/site-packages/tensorflow/contrib/learn/python/learn/learn_io/data_feeder.py:100: extract_pandas_data (from tensorflow.contrib.learn.python.learn.learn_io.pandas_io) is deprecated and will be removed in a future version.\n",
      "Instructions for updating:\n",
      "Please access pandas data directly.\n",
      "WARNING:tensorflow:From /home/akash/anaconda3/lib/python3.6/site-packages/tensorflow/contrib/learn/python/learn/learn_io/data_feeder.py:102: extract_pandas_labels (from tensorflow.contrib.learn.python.learn.learn_io.pandas_io) is deprecated and will be removed in a future version.\n",
      "Instructions for updating:\n",
      "Please access pandas data directly.\n",
      "WARNING:tensorflow:From /home/akash/anaconda3/lib/python3.6/site-packages/tensorflow/contrib/learn/python/learn/learn_io/data_feeder.py:159: DataFeeder.__init__ (from tensorflow.contrib.learn.python.learn.learn_io.data_feeder) is deprecated and will be removed in a future version.\n",
      "Instructions for updating:\n",
      "Please use tensorflow/transform or tf.data.\n",
      "WARNING:tensorflow:From /home/akash/anaconda3/lib/python3.6/site-packages/tensorflow/contrib/learn/python/learn/learn_io/data_feeder.py:340: check_array (from tensorflow.contrib.learn.python.learn.learn_io.data_feeder) is deprecated and will be removed in a future version.\n",
      "Instructions for updating:\n",
      "Please convert numpy dtypes explicitly.\n",
      "INFO:tensorflow:Constructing forest with params = \n",
      "INFO:tensorflow:{'num_trees': 50, 'max_nodes': 1000, 'bagging_fraction': 1.0, 'feature_bagging_fraction': 1.0, 'num_splits_to_consider': 10, 'max_fertile_nodes': 0, 'split_after_samples': 250, 'valid_leaf_threshold': 1, 'dominate_method': 'bootstrap', 'dominate_fraction': 0.99, 'model_name': 'all_dense', 'split_finish_name': 'basic', 'split_pruning_name': 'none', 'collate_examples': False, 'checkpoint_stats': False, 'use_running_stats_method': False, 'initialize_average_splits': False, 'inference_tree_paths': False, 'param_file': None, 'split_name': 'less_or_equal', 'early_finish_check_every_samples': 0, 'prune_every_samples': 0, 'num_classes': 2, 'num_features': 5, 'regression': False, 'bagged_num_features': 5, 'bagged_features': None, 'num_outputs': 1, 'num_output_columns': 3, 'base_random_seed': 0, 'leaf_model_type': 0, 'stats_model_type': 0, 'finish_type': 0, 'pruning_type': 0, 'split_type': 0}\n",
      "INFO:tensorflow:dense_features_size: 5 dense: [{name: features original_type: 0 size: 5}] sparse: []\n",
      "INFO:tensorflow:dense_features_size: 5 dense: [{name: features original_type: 0 size: 5}] sparse: []\n",
      "WARNING:tensorflow:Casting <dtype: 'float32'> labels to bool.\n",
      "WARNING:tensorflow:Casting <dtype: 'float32'> labels to bool.\n",
      "WARNING:tensorflow:Trapezoidal rule is known to produce incorrect PR-AUCs; please switch to \"careful_interpolation\" instead.\n",
      "WARNING:tensorflow:Trapezoidal rule is known to produce incorrect PR-AUCs; please switch to \"careful_interpolation\" instead.\n",
      "WARNING:tensorflow:From /home/akash/anaconda3/lib/python3.6/site-packages/tensorflow/contrib/learn/python/learn/estimators/head.py:678: ModelFnOps.__new__ (from tensorflow.contrib.learn.python.learn.estimators.model_fn) is deprecated and will be removed in a future version.\n",
      "Instructions for updating:\n",
      "When switching to tf.estimator.Estimator, use tf.estimator.EstimatorSpec. You can use the `estimator_spec` method to create an equivalent one.\n",
      "INFO:tensorflow:Create CheckpointSaverHook.\n",
      "WARNING:tensorflow:Issue encountered when serializing resources.\n",
      "Type is unsupported, or the types of the items don't match field type in CollectionDef. Note this is a warning and probably safe to ignore.\n",
      "'_Resource' object has no attribute 'name'\n",
      "INFO:tensorflow:Graph was finalized.\n",
      "INFO:tensorflow:Running local_init_op.\n",
      "INFO:tensorflow:Done running local_init_op.\n",
      "WARNING:tensorflow:Issue encountered when serializing resources.\n",
      "Type is unsupported, or the types of the items don't match field type in CollectionDef. Note this is a warning and probably safe to ignore.\n",
      "'_Resource' object has no attribute 'name'\n",
      "INFO:tensorflow:Saving checkpoints for 0 into /tmp/tmptquxgb0a/model.ckpt.\n",
      "WARNING:tensorflow:Issue encountered when serializing resources.\n",
      "Type is unsupported, or the types of the items don't match field type in CollectionDef. Note this is a warning and probably safe to ignore.\n",
      "'_Resource' object has no attribute 'name'\n",
      "INFO:tensorflow:loss = 2.9334393, step = 1\n",
      "INFO:tensorflow:TensorForestLossHook resetting last_step.\n",
      "INFO:tensorflow:global_step/sec: 13.4237\n",
      "INFO:tensorflow:loss = 0.004688671, step = 101 (7.450 sec)\n",
      "INFO:tensorflow:global_step/sec: 15.8318\n",
      "INFO:tensorflow:loss = 0.0012959256, step = 201 (6.317 sec)\n",
      "INFO:tensorflow:global_step/sec: 18.7797\n",
      "INFO:tensorflow:loss = 0.000257569, step = 301 (5.325 sec)\n",
      "INFO:tensorflow:global_step/sec: 17.0812\n",
      "INFO:tensorflow:loss = 4.96034e-05, step = 401 (5.855 sec)\n"
     ]
    },
    {
     "name": "stdout",
     "output_type": "stream",
     "text": [
      "INFO:tensorflow:global_step/sec: 15.7195\n",
      "INFO:tensorflow:loss = 5.936504e-06, step = 501 (6.362 sec)\n",
      "INFO:tensorflow:global_step/sec: 15.2305\n",
      "INFO:tensorflow:loss = 3.4682662e-06, step = 601 (6.566 sec)\n",
      "INFO:tensorflow:TensorForestLossHook requesting stop.\n",
      "INFO:tensorflow:Saving checkpoints for 665 into /tmp/tmptquxgb0a/model.ckpt.\n",
      "WARNING:tensorflow:Issue encountered when serializing resources.\n",
      "Type is unsupported, or the types of the items don't match field type in CollectionDef. Note this is a warning and probably safe to ignore.\n",
      "'_Resource' object has no attribute 'name'\n",
      "INFO:tensorflow:9: clean up resources: None\n",
      "INFO:tensorflow:Loss for final step: 3.4682648e-06.\n"
     ]
    },
    {
     "data": {
      "text/plain": [
       "TensorForestEstimator(params=None)"
      ]
     },
     "execution_count": 19,
     "metadata": {},
     "output_type": "execute_result"
    }
   ],
   "source": [
    "\n",
    "params = tf.contrib.tensor_forest.python.tensor_forest.ForestHParams(\n",
    "  num_classes=2, num_features=5, regression=False,\n",
    "  num_trees=50, max_nodes=1000)\n",
    "\n",
    "rfclassifier = \\\n",
    "tf.contrib.tensor_forest.client.random_forest.TensorForestEstimator(params)\n",
    "\n",
    "rfclassifier.fit(x=train_data[cols].values.astype('float32'), y=train_data['Occupancy'].values.astype('float32'))\n"
   ]
  },
  {
   "cell_type": "code",
   "execution_count": 20,
   "metadata": {},
   "outputs": [
    {
     "name": "stdout",
     "output_type": "stream",
     "text": [
      "INFO:tensorflow:Constructing forest with params = \n",
      "INFO:tensorflow:{'num_trees': 50, 'max_nodes': 1000, 'bagging_fraction': 1.0, 'feature_bagging_fraction': 1.0, 'num_splits_to_consider': 10, 'max_fertile_nodes': 0, 'split_after_samples': 250, 'valid_leaf_threshold': 1, 'dominate_method': 'bootstrap', 'dominate_fraction': 0.99, 'model_name': 'all_dense', 'split_finish_name': 'basic', 'split_pruning_name': 'none', 'collate_examples': False, 'checkpoint_stats': False, 'use_running_stats_method': False, 'initialize_average_splits': False, 'inference_tree_paths': False, 'param_file': None, 'split_name': 'less_or_equal', 'early_finish_check_every_samples': 0, 'prune_every_samples': 0, 'num_classes': 2, 'num_features': 5, 'regression': False, 'bagged_num_features': 5, 'bagged_features': None, 'num_outputs': 1, 'num_output_columns': 3, 'base_random_seed': 0, 'leaf_model_type': 0, 'stats_model_type': 0, 'finish_type': 0, 'pruning_type': 0, 'split_type': 0, 'params_proto': pruning_type {\n",
      "  prune_every_samples {\n",
      "    constant_value: 0.0\n",
      "  }\n",
      "}\n",
      "finish_type {\n",
      "  check_every_steps {\n",
      "    constant_value: 0.0\n",
      "  }\n",
      "}\n",
      "num_trees: 50\n",
      "max_nodes: 1000\n",
      "num_outputs: 2\n",
      "num_splits_to_consider {\n",
      "  constant_value: 10.0\n",
      "}\n",
      "split_after_samples {\n",
      "  constant_value: 250.0\n",
      "}\n",
      "dominate_fraction {\n",
      "  constant_value: 0.9900000095367432\n",
      "}\n",
      "num_features: 5\n",
      ", 'serialized_params_proto': b'\"\\x07\\n\\x05\\r\\x00\\x00\\x00\\x00*\\x07\\n\\x05\\r\\x00\\x00\\x00\\x00028\\xe8\\x07`\\x02j\\x05\\r\\x00\\x00 Ar\\x05\\r\\x00\\x00zCz\\x05\\r\\xa4p}?\\xa8\\x01\\x05'}\n",
      "INFO:tensorflow:dense_features_size: 5 dense: [{name: features original_type: 0 size: 5}] sparse: []\n",
      "INFO:tensorflow:Graph was finalized.\n",
      "INFO:tensorflow:Restoring parameters from /tmp/tmptquxgb0a/model.ckpt-665\n",
      "INFO:tensorflow:Running local_init_op.\n",
      "INFO:tensorflow:Done running local_init_op.\n"
     ]
    }
   ],
   "source": [
    "y_out = rfclassifier.predict(x=test_data[cols].values.astype('float32'))"
   ]
  },
  {
   "cell_type": "code",
   "execution_count": 21,
   "metadata": {},
   "outputs": [],
   "source": [
    "a = list(y_out)\n"
   ]
  },
  {
   "cell_type": "code",
   "execution_count": 22,
   "metadata": {},
   "outputs": [
    {
     "data": {
      "text/plain": [
       "[{'logits': array([-1.3862944], dtype=float32),\n",
       "  'logistic': array([0.2], dtype=float32),\n",
       "  'probabilities': array([0.8, 0.2], dtype=float32),\n",
       "  'classes': 0,\n",
       "  'prediction_variance': array([0.16000003, 0.16      ], dtype=float32)},\n",
       " {'logits': array([-0.66329414], dtype=float32),\n",
       "  'logistic': array([0.34], dtype=float32),\n",
       "  'probabilities': array([0.66      , 0.34000003], dtype=float32),\n",
       "  'classes': 0,\n",
       "  'prediction_variance': array([0.22440001, 0.2244    ], dtype=float32)},\n",
       " {'logits': array([-0.84729797], dtype=float32),\n",
       "  'logistic': array([0.29999998], dtype=float32),\n",
       "  'probabilities': array([0.70000005, 0.29999998], dtype=float32),\n",
       "  'classes': 0,\n",
       "  'prediction_variance': array([0.21000001, 0.21      ], dtype=float32)},\n",
       " {'logits': array([-1.1526796], dtype=float32),\n",
       "  'logistic': array([0.23999998], dtype=float32),\n",
       "  'probabilities': array([0.76, 0.24], dtype=float32),\n",
       "  'classes': 0,\n",
       "  'prediction_variance': array([0.18239999, 0.18239999], dtype=float32)},\n",
       " {'logits': array([-1.1526796], dtype=float32),\n",
       "  'logistic': array([0.23999998], dtype=float32),\n",
       "  'probabilities': array([0.76, 0.24], dtype=float32),\n",
       "  'classes': 0,\n",
       "  'prediction_variance': array([0.18239999, 0.18239999], dtype=float32)},\n",
       " {'logits': array([-0.66329414], dtype=float32),\n",
       "  'logistic': array([0.34], dtype=float32),\n",
       "  'probabilities': array([0.66      , 0.34000003], dtype=float32),\n",
       "  'classes': 0,\n",
       "  'prediction_variance': array([0.22440001, 0.2244    ], dtype=float32)},\n",
       " {'logits': array([0.24116203], dtype=float32),\n",
       "  'logistic': array([0.56], dtype=float32),\n",
       "  'probabilities': array([0.44, 0.56], dtype=float32),\n",
       "  'classes': 1,\n",
       "  'prediction_variance': array([0.2464, 0.2464], dtype=float32)},\n",
       " {'logits': array([0.08004263], dtype=float32),\n",
       "  'logistic': array([0.52], dtype=float32),\n",
       "  'probabilities': array([0.48000002, 0.52      ], dtype=float32),\n",
       "  'classes': 1,\n",
       "  'prediction_variance': array([0.2496, 0.2496], dtype=float32)},\n",
       " {'logits': array([0.4895482], dtype=float32),\n",
       "  'logistic': array([0.62], dtype=float32),\n",
       "  'probabilities': array([0.38, 0.62], dtype=float32),\n",
       "  'classes': 1,\n",
       "  'prediction_variance': array([0.2356, 0.2356], dtype=float32)},\n",
       " {'logits': array([0.4895482], dtype=float32),\n",
       "  'logistic': array([0.62], dtype=float32),\n",
       "  'probabilities': array([0.38, 0.62], dtype=float32),\n",
       "  'classes': 1,\n",
       "  'prediction_variance': array([0.2356, 0.2356], dtype=float32)},\n",
       " {'logits': array([0.32277328], dtype=float32),\n",
       "  'logistic': array([0.58], dtype=float32),\n",
       "  'probabilities': array([0.42000005, 0.58      ], dtype=float32),\n",
       "  'classes': 1,\n",
       "  'prediction_variance': array([0.2436    , 0.24360001], dtype=float32)},\n",
       " {'logits': array([0.32277328], dtype=float32),\n",
       "  'logistic': array([0.58], dtype=float32),\n",
       "  'probabilities': array([0.42000005, 0.58      ], dtype=float32),\n",
       "  'classes': 1,\n",
       "  'prediction_variance': array([0.2436    , 0.24360001], dtype=float32)},\n",
       " {'logits': array([0.32277328], dtype=float32),\n",
       "  'logistic': array([0.58], dtype=float32),\n",
       "  'probabilities': array([0.42000005, 0.58      ], dtype=float32),\n",
       "  'classes': 1,\n",
       "  'prediction_variance': array([0.2436    , 0.24360001], dtype=float32)},\n",
       " {'logits': array([0.4895482], dtype=float32),\n",
       "  'logistic': array([0.62], dtype=float32),\n",
       "  'probabilities': array([0.38, 0.62], dtype=float32),\n",
       "  'classes': 1,\n",
       "  'prediction_variance': array([0.2356, 0.2356], dtype=float32)},\n",
       " {'logits': array([0.9444614], dtype=float32),\n",
       "  'logistic': array([0.71999997], dtype=float32),\n",
       "  'probabilities': array([0.28000003, 0.71999997], dtype=float32),\n",
       "  'classes': 1,\n",
       "  'prediction_variance': array([0.2016    , 0.20160002], dtype=float32)},\n",
       " {'logits': array([0.84729785], dtype=float32),\n",
       "  'logistic': array([0.7], dtype=float32),\n",
       "  'probabilities': array([0.3, 0.7], dtype=float32),\n",
       "  'classes': 1,\n",
       "  'prediction_variance': array([0.21      , 0.21000001], dtype=float32)},\n",
       " {'logits': array([1.0459685], dtype=float32),\n",
       "  'logistic': array([0.74], dtype=float32),\n",
       "  'probabilities': array([0.26, 0.74], dtype=float32),\n",
       "  'classes': 1,\n",
       "  'prediction_variance': array([0.1924    , 0.19239998], dtype=float32)},\n",
       " {'logits': array([1.1526794], dtype=float32),\n",
       "  'logistic': array([0.76], dtype=float32),\n",
       "  'probabilities': array([0.24000001, 0.76      ], dtype=float32),\n",
       "  'classes': 1,\n",
       "  'prediction_variance': array([0.18239999, 0.18239999], dtype=float32)},\n",
       " {'logits': array([1.2656662], dtype=float32),\n",
       "  'logistic': array([0.78], dtype=float32),\n",
       "  'probabilities': array([0.22000003, 0.78      ], dtype=float32),\n",
       "  'classes': 1,\n",
       "  'prediction_variance': array([0.1716    , 0.17160004], dtype=float32)},\n",
       " {'logits': array([1.6582279], dtype=float32),\n",
       "  'logistic': array([0.84000003], dtype=float32),\n",
       "  'probabilities': array([0.16000004, 0.84000003], dtype=float32),\n",
       "  'classes': 1,\n",
       "  'prediction_variance': array([0.1344    , 0.13440001], dtype=float32)},\n",
       " {'logits': array([1.5163474], dtype=float32),\n",
       "  'logistic': array([0.82], dtype=float32),\n",
       "  'probabilities': array([0.18, 0.82], dtype=float32),\n",
       "  'classes': 1,\n",
       "  'prediction_variance': array([0.1476, 0.1476], dtype=float32)},\n",
       " {'logits': array([1.0459685], dtype=float32),\n",
       "  'logistic': array([0.74], dtype=float32),\n",
       "  'probabilities': array([0.26, 0.74], dtype=float32),\n",
       "  'classes': 1,\n",
       "  'prediction_variance': array([0.1924    , 0.19239998], dtype=float32)},\n",
       " {'logits': array([1.0459685], dtype=float32),\n",
       "  'logistic': array([0.74], dtype=float32),\n",
       "  'probabilities': array([0.26, 0.74], dtype=float32),\n",
       "  'classes': 1,\n",
       "  'prediction_variance': array([0.1924    , 0.19239998], dtype=float32)},\n",
       " {'logits': array([1.0459685], dtype=float32),\n",
       "  'logistic': array([0.74], dtype=float32),\n",
       "  'probabilities': array([0.26, 0.74], dtype=float32),\n",
       "  'classes': 1,\n",
       "  'prediction_variance': array([0.1924    , 0.19239998], dtype=float32)},\n",
       " {'logits': array([1.386294], dtype=float32),\n",
       "  'logistic': array([0.79999995], dtype=float32),\n",
       "  'probabilities': array([0.20000006, 0.79999995], dtype=float32),\n",
       "  'classes': 1,\n",
       "  'prediction_variance': array([0.16      , 0.16000003], dtype=float32)},\n",
       " {'logits': array([1.2656662], dtype=float32),\n",
       "  'logistic': array([0.78], dtype=float32),\n",
       "  'probabilities': array([0.22000003, 0.78      ], dtype=float32),\n",
       "  'classes': 1,\n",
       "  'prediction_variance': array([0.1716    , 0.17160004], dtype=float32)},\n",
       " {'logits': array([1.2656662], dtype=float32),\n",
       "  'logistic': array([0.78], dtype=float32),\n",
       "  'probabilities': array([0.22000003, 0.78      ], dtype=float32),\n",
       "  'classes': 1,\n",
       "  'prediction_variance': array([0.1716    , 0.17160004], dtype=float32)},\n",
       " {'logits': array([0.9444614], dtype=float32),\n",
       "  'logistic': array([0.71999997], dtype=float32),\n",
       "  'probabilities': array([0.28000003, 0.71999997], dtype=float32),\n",
       "  'classes': 1,\n",
       "  'prediction_variance': array([0.2016    , 0.20160002], dtype=float32)},\n",
       " {'logits': array([0.6632941], dtype=float32),\n",
       "  'logistic': array([0.66], dtype=float32),\n",
       "  'probabilities': array([0.34000003, 0.66      ], dtype=float32),\n",
       "  'classes': 1,\n",
       "  'prediction_variance': array([0.2244    , 0.22440001], dtype=float32)},\n",
       " {'logits': array([0.9444614], dtype=float32),\n",
       "  'logistic': array([0.71999997], dtype=float32),\n",
       "  'probabilities': array([0.28000003, 0.71999997], dtype=float32),\n",
       "  'classes': 1,\n",
       "  'prediction_variance': array([0.2016    , 0.20160002], dtype=float32)},\n",
       " {'logits': array([1.1526794], dtype=float32),\n",
       "  'logistic': array([0.76], dtype=float32),\n",
       "  'probabilities': array([0.24000001, 0.76      ], dtype=float32),\n",
       "  'classes': 1,\n",
       "  'prediction_variance': array([0.18239999, 0.18239999], dtype=float32)},\n",
       " {'logits': array([0.7537718], dtype=float32),\n",
       "  'logistic': array([0.68], dtype=float32),\n",
       "  'probabilities': array([0.32, 0.68], dtype=float32),\n",
       "  'classes': 1,\n",
       "  'prediction_variance': array([0.21759999, 0.21759999], dtype=float32)},\n",
       " {'logits': array([0.7537718], dtype=float32),\n",
       "  'logistic': array([0.68], dtype=float32),\n",
       "  'probabilities': array([0.32, 0.68], dtype=float32),\n",
       "  'classes': 1,\n",
       "  'prediction_variance': array([0.21759999, 0.21759999], dtype=float32)},\n",
       " {'logits': array([0.84729785], dtype=float32),\n",
       "  'logistic': array([0.7], dtype=float32),\n",
       "  'probabilities': array([0.3, 0.7], dtype=float32),\n",
       "  'classes': 1,\n",
       "  'prediction_variance': array([0.21      , 0.21000001], dtype=float32)},\n",
       " {'logits': array([0.9444614], dtype=float32),\n",
       "  'logistic': array([0.71999997], dtype=float32),\n",
       "  'probabilities': array([0.28000003, 0.71999997], dtype=float32),\n",
       "  'classes': 1,\n",
       "  'prediction_variance': array([0.2016    , 0.20160002], dtype=float32)},\n",
       " {'logits': array([1.1526794], dtype=float32),\n",
       "  'logistic': array([0.76], dtype=float32),\n",
       "  'probabilities': array([0.24000001, 0.76      ], dtype=float32),\n",
       "  'classes': 1,\n",
       "  'prediction_variance': array([0.18239999, 0.18239999], dtype=float32)},\n",
       " {'logits': array([1.1526794], dtype=float32),\n",
       "  'logistic': array([0.76], dtype=float32),\n",
       "  'probabilities': array([0.24000001, 0.76      ], dtype=float32),\n",
       "  'classes': 1,\n",
       "  'prediction_variance': array([0.18239999, 0.18239999], dtype=float32)},\n",
       " {'logits': array([1.386294], dtype=float32),\n",
       "  'logistic': array([0.79999995], dtype=float32),\n",
       "  'probabilities': array([0.20000006, 0.79999995], dtype=float32),\n",
       "  'classes': 1,\n",
       "  'prediction_variance': array([0.16      , 0.16000003], dtype=float32)}]"
      ]
     },
     "execution_count": 22,
     "metadata": {},
     "output_type": "execute_result"
    }
   ],
   "source": [
    "a[2:40]"
   ]
  },
  {
   "cell_type": "code",
   "execution_count": 71,
   "metadata": {},
   "outputs": [],
   "source": [
    "probs = np.array([i['probabilities'] for i in a])\n"
   ]
  },
  {
   "cell_type": "code",
   "execution_count": 44,
   "metadata": {},
   "outputs": [],
   "source": [
    "# probs = [(i[0], i[1]) for i in probs]"
   ]
  },
  {
   "cell_type": "code",
   "execution_count": 73,
   "metadata": {},
   "outputs": [
    {
     "data": {
      "text/plain": [
       "(2665, 2)"
      ]
     },
     "execution_count": 73,
     "metadata": {},
     "output_type": "execute_result"
    }
   ],
   "source": [
    "probs.shape"
   ]
  },
  {
   "cell_type": "markdown",
   "metadata": {},
   "source": [
    "### TRAINING NOISE"
   ]
  },
  {
   "cell_type": "markdown",
   "metadata": {},
   "source": [
    "##### NN with Cross Entropy"
   ]
  },
  {
   "cell_type": "code",
   "execution_count": 74,
   "metadata": {},
   "outputs": [],
   "source": [
    "REG_COEFF = 2.0\n",
    "MIS_COEFF = 1.0\n",
    "BATCH_SIZE = 80\n",
    "NUM_EPOCHS = 30\n",
    "modelHistory = {'reg_loss':[], 'miss_loss':[], 'values':[], 'noise':[], 'orig_labels':[],\\\n",
    "                'pred_labels':[], 'new_labels':[]}\n",
    "\n",
    "\n",
    "adversarialModel = tf.keras.models.Sequential([\n",
    "  tf.keras.layers.Dense(32, activation=tf.nn.relu),\n",
    "  tf.keras.layers.Dropout(0.2),\n",
    "  tf.keras.layers.Dense(5, activation=tf.nn.tanh)\n",
    "])\n",
    "\n",
    "dataset = tf.data.Dataset.from_tensor_slices(\n",
    "    (tf.cast(np.reshape(train_data[cols].values, newshape=(-1,5)), tf.float32),\n",
    "    tf.cast(np.reshape(train_data['Occupancy'].values, newshape=(-1,1)), tf.int64)))\n",
    "\n",
    "dataset = dataset.batch(BATCH_SIZE)"
   ]
  },
  {
   "cell_type": "code",
   "execution_count": 86,
   "metadata": {},
   "outputs": [
    {
     "name": "stdout",
     "output_type": "stream",
     "text": [
      "0\n",
      "(80, 2)\n",
      "(80, 2)\n",
      "(80, 2)\n",
      "(80, 2)\n",
      "(80, 2)\n",
      "5\n",
      "(80, 2)\n",
      "6\n",
      "(80, 2)\n",
      "7\n",
      "(80, 2)\n",
      "8\n",
      "(80, 2)\n",
      "9\n",
      "(80, 2)\n",
      "10\n",
      "(80, 2)\n",
      "11\n",
      "(80, 2)\n",
      "12\n",
      "(80, 2)\n",
      "13\n",
      "(80, 2)\n",
      "14\n",
      "(80, 2)\n",
      "15\n",
      "(80, 2)\n",
      "16\n",
      "(80, 2)\n",
      "17\n",
      "(80, 2)\n",
      "18\n",
      "(80, 2)\n",
      "19\n",
      "(80, 2)\n",
      "20\n",
      "(80, 2)\n",
      "21\n",
      "(80, 2)\n",
      "22\n",
      "(80, 2)\n",
      "23\n",
      "(80, 2)\n",
      "24\n",
      "(80, 2)\n",
      "25\n",
      "(80, 2)\n",
      "26\n",
      "(80, 2)\n",
      "27\n",
      "(80, 2)\n",
      "28\n",
      "(80, 2)\n",
      "29\n",
      "(80, 2)\n",
      "30\n",
      "(80, 2)\n",
      "31\n",
      "(80, 2)\n",
      "32\n",
      "(25, 2)\n"
     ]
    },
    {
     "ename": "ValueError",
     "evalue": "Shape mismatch: The shape of labels (received (25,)) should equal the shape of logits except for the last dimension (received (80, 2)).",
     "output_type": "error",
     "traceback": [
      "\u001b[0;31m---------------------------------------------------------------------------\u001b[0m",
      "\u001b[0;31mValueError\u001b[0m                                Traceback (most recent call last)",
      "\u001b[0;32m<ipython-input-86-a7290d3e04b6>\u001b[0m in \u001b[0;36m<module>\u001b[0;34m()\u001b[0m\n\u001b[1;32m     18\u001b[0m             \u001b[0mregTerm\u001b[0m \u001b[0;34m=\u001b[0m \u001b[0mtf\u001b[0m\u001b[0;34m.\u001b[0m\u001b[0mmath\u001b[0m\u001b[0;34m.\u001b[0m\u001b[0mmultiply\u001b[0m\u001b[0;34m(\u001b[0m\u001b[0mtf\u001b[0m\u001b[0;34m.\u001b[0m\u001b[0mreduce_mean\u001b[0m\u001b[0;34m(\u001b[0m\u001b[0mtf\u001b[0m\u001b[0;34m.\u001b[0m\u001b[0mmath\u001b[0m\u001b[0;34m.\u001b[0m\u001b[0mabs\u001b[0m\u001b[0;34m(\u001b[0m\u001b[0mnoise\u001b[0m\u001b[0;34m)\u001b[0m\u001b[0;34m)\u001b[0m\u001b[0;34m,\u001b[0m \u001b[0mREG_COEFF\u001b[0m\u001b[0;34m)\u001b[0m\u001b[0;34m\u001b[0m\u001b[0m\n\u001b[1;32m     19\u001b[0m             missTerm = tf.math.multiply(tf.reduce_mean(tf.keras.losses.sparse_categorical_crossentropy(\n\u001b[0;32m---> 20\u001b[0;31m                             tf.math.subtract(1, tf.argmax(pred_labels, axis=1)), new_labels)), MIS_COEFF)\n\u001b[0m\u001b[1;32m     21\u001b[0m \u001b[0;34m\u001b[0m\u001b[0m\n\u001b[1;32m     22\u001b[0m             \u001b[0mloss\u001b[0m \u001b[0;34m=\u001b[0m \u001b[0mtf\u001b[0m\u001b[0;34m.\u001b[0m\u001b[0madd\u001b[0m\u001b[0;34m(\u001b[0m\u001b[0mregTerm\u001b[0m\u001b[0;34m,\u001b[0m \u001b[0mmissTerm\u001b[0m\u001b[0;34m)\u001b[0m\u001b[0;34m\u001b[0m\u001b[0m\n",
      "\u001b[0;32m~/anaconda3/lib/python3.6/site-packages/tensorflow/python/keras/losses.py\u001b[0m in \u001b[0;36msparse_categorical_crossentropy\u001b[0;34m(y_true, y_pred)\u001b[0m\n\u001b[1;32m    124\u001b[0m            'keras.losses.sparse_categorical_crossentropy')\n\u001b[1;32m    125\u001b[0m \u001b[0;32mdef\u001b[0m \u001b[0msparse_categorical_crossentropy\u001b[0m\u001b[0;34m(\u001b[0m\u001b[0my_true\u001b[0m\u001b[0;34m,\u001b[0m \u001b[0my_pred\u001b[0m\u001b[0;34m)\u001b[0m\u001b[0;34m:\u001b[0m\u001b[0;34m\u001b[0m\u001b[0m\n\u001b[0;32m--> 126\u001b[0;31m   \u001b[0;32mreturn\u001b[0m \u001b[0mK\u001b[0m\u001b[0;34m.\u001b[0m\u001b[0msparse_categorical_crossentropy\u001b[0m\u001b[0;34m(\u001b[0m\u001b[0my_true\u001b[0m\u001b[0;34m,\u001b[0m \u001b[0my_pred\u001b[0m\u001b[0;34m)\u001b[0m\u001b[0;34m\u001b[0m\u001b[0m\n\u001b[0m\u001b[1;32m    127\u001b[0m \u001b[0;34m\u001b[0m\u001b[0m\n\u001b[1;32m    128\u001b[0m \u001b[0;34m\u001b[0m\u001b[0m\n",
      "\u001b[0;32m~/anaconda3/lib/python3.6/site-packages/tensorflow/python/keras/backend.py\u001b[0m in \u001b[0;36msparse_categorical_crossentropy\u001b[0;34m(target, output, from_logits, axis)\u001b[0m\n\u001b[1;32m   3630\u001b[0m   \u001b[0mlogits\u001b[0m \u001b[0;34m=\u001b[0m \u001b[0marray_ops\u001b[0m\u001b[0;34m.\u001b[0m\u001b[0mreshape\u001b[0m\u001b[0;34m(\u001b[0m\u001b[0moutput\u001b[0m\u001b[0;34m,\u001b[0m \u001b[0;34m[\u001b[0m\u001b[0;34m-\u001b[0m\u001b[0;36m1\u001b[0m\u001b[0;34m,\u001b[0m \u001b[0mint\u001b[0m\u001b[0;34m(\u001b[0m\u001b[0moutput_shape\u001b[0m\u001b[0;34m[\u001b[0m\u001b[0;34m-\u001b[0m\u001b[0;36m1\u001b[0m\u001b[0;34m]\u001b[0m\u001b[0;34m)\u001b[0m\u001b[0;34m]\u001b[0m\u001b[0;34m)\u001b[0m\u001b[0;34m\u001b[0m\u001b[0m\n\u001b[1;32m   3631\u001b[0m   res = nn.sparse_softmax_cross_entropy_with_logits(\n\u001b[0;32m-> 3632\u001b[0;31m       labels=targets, logits=logits)\n\u001b[0m\u001b[1;32m   3633\u001b[0m   \u001b[0;32mif\u001b[0m \u001b[0mlen\u001b[0m\u001b[0;34m(\u001b[0m\u001b[0moutput_shape\u001b[0m\u001b[0;34m)\u001b[0m \u001b[0;34m>=\u001b[0m \u001b[0;36m3\u001b[0m\u001b[0;34m:\u001b[0m\u001b[0;34m\u001b[0m\u001b[0m\n\u001b[1;32m   3634\u001b[0m     \u001b[0;31m# If our output includes timesteps or spatial dimensions we need to reshape\u001b[0m\u001b[0;34m\u001b[0m\u001b[0;34m\u001b[0m\u001b[0m\n",
      "\u001b[0;32m~/anaconda3/lib/python3.6/site-packages/tensorflow/python/ops/nn_ops.py\u001b[0m in \u001b[0;36msparse_softmax_cross_entropy_with_logits\u001b[0;34m(_sentinel, labels, logits, name)\u001b[0m\n\u001b[1;32m   2043\u001b[0m                        \u001b[0;34m\"should equal the shape of logits except for the last \"\u001b[0m\u001b[0;34m\u001b[0m\u001b[0m\n\u001b[1;32m   2044\u001b[0m                        \"dimension (received %s).\" % (labels_static_shape,\n\u001b[0;32m-> 2045\u001b[0;31m                                                      logits.get_shape()))\n\u001b[0m\u001b[1;32m   2046\u001b[0m     \u001b[0;31m# Check if no reshapes are required.\u001b[0m\u001b[0;34m\u001b[0m\u001b[0;34m\u001b[0m\u001b[0m\n\u001b[1;32m   2047\u001b[0m     \u001b[0;32mif\u001b[0m \u001b[0mlogits\u001b[0m\u001b[0;34m.\u001b[0m\u001b[0mget_shape\u001b[0m\u001b[0;34m(\u001b[0m\u001b[0;34m)\u001b[0m\u001b[0;34m.\u001b[0m\u001b[0mndims\u001b[0m \u001b[0;34m==\u001b[0m \u001b[0;36m2\u001b[0m\u001b[0;34m:\u001b[0m\u001b[0;34m\u001b[0m\u001b[0m\n",
      "\u001b[0;31mValueError\u001b[0m: Shape mismatch: The shape of labels (received (25,)) should equal the shape of logits except for the last dimension (received (80, 2))."
     ]
    }
   ],
   "source": [
    "optimizer = tf.train.AdamOptimizer()\n",
    "iter = 0\n",
    "for epoch in range(NUM_EPOCHS):\n",
    "    print(iter)\n",
    "    for (batch, (vals, orig_labels)) in enumerate(dataset.take(-1)):\n",
    "\n",
    "        with tf.GradientTape() as tape:\n",
    "            iter+=1\n",
    "#             pred_labels = classifierModel(vals)\n",
    "#             print(pred_labels.shape)\n",
    "            pred_labels = tf.convert_to_tensor(probs[iter*80:(iter+1)*80])\n",
    "            print(pred_labels.shape)\n",
    "#             pred\n",
    "#             print(pred_labels)\n",
    "            noise = adversarialModel(vals)\n",
    "            new_labels = classifierModel(tf.add(vals, noise))\n",
    "\n",
    "            regTerm = tf.math.multiply(tf.reduce_mean(tf.math.abs(noise)), REG_COEFF)\n",
    "            missTerm = tf.math.multiply(tf.reduce_mean(tf.keras.losses.sparse_categorical_crossentropy(\n",
    "                            tf.math.subtract(1, tf.argmax(pred_labels, axis=1)), new_labels)), MIS_COEFF)\n",
    "\n",
    "            loss = tf.add(regTerm, missTerm)\n",
    "\n",
    "        grads = tape.gradient(loss, adversarialModel.trainable_variables)\n",
    "        optimizer.apply_gradients(zip(grads, adversarialModel.trainable_variables), global_step=tf.train.get_or_create_global_step())\n",
    "\n",
    "        if batch % 10 == 0:\n",
    "            modelHistory['reg_loss'].append(regTerm.numpy())\n",
    "            modelHistory['miss_loss'].append(missTerm.numpy())\n",
    "            modelHistory['noise'].append(noise.numpy())\n",
    "            modelHistory['values'].append(vals.numpy())\n",
    "            modelHistory['orig_labels'].append(orig_labels.numpy())\n",
    "            modelHistory['pred_labels'].append(pred_labels.numpy())\n",
    "            modelHistory['new_labels'].append(new_labels.numpy())\n",
    "        if iter > 1:\n",
    "            temp1 = modelHistory['reg_loss'][-1] + modelHistory['miss_loss'][-1]\n",
    "            temp2 = modelHistory['reg_loss'][-2] + modelHistory['miss_loss'][-2]\n",
    "            if(abs(temp2 - temp1) < 1e-3 or iter > 4):\n",
    "                break"
   ]
  },
  {
   "cell_type": "code",
   "execution_count": 80,
   "metadata": {},
   "outputs": [
    {
     "data": {
      "image/png": "[encoded data removed]",
      "text/plain": [
       "<Figure size 432x288 with 1 Axes>"
      ]
     },
     "metadata": {},
     "output_type": "display_data"
    }
   ],
   "source": [
    "plt.plot(modelHistory['reg_loss'])\n",
    "plt.plot(modelHistory['miss_loss'])\n",
    "plt.savefig('Plot-3.png')"
   ]
  },
  {
   "cell_type": "code",
   "execution_count": 52,
   "metadata": {},
   "outputs": [],
   "source": [
    "np.random.seed(7)\n",
    "temp = np.asarray([train_data[cols].values\\\n",
    "                   [np.random.randint(low = 0, high=train_data.shape[0])].astype('float32')\n",
    "                   for i in range(6)])"
   ]
  },
  {
   "cell_type": "code",
   "execution_count": 53,
   "metadata": {},
   "outputs": [
    {
     "name": "stdout",
     "output_type": "stream",
     "text": [
      "(6, 5)\n"
     ]
    },
    {
     "data": {
      "text/plain": [
       "array([[ 0.0795752 , -0.9097133 , -0.6137261 , -0.5410289 , -0.87276405],\n",
       "       [ 1.5768403 ,  0.02910802,  1.6867317 ,  0.537553  ,  0.5019205 ],\n",
       "       [ 0.42377406, -0.1611875 , -0.6137261 , -0.54421055, -0.04024421],\n",
       "       [ 1.1515088 , -0.98293865,  1.8972647 ,  0.6202761 , -0.6953054 ],\n",
       "       [-1.1005353 ,  0.22934772, -0.49048725, -0.5879584 , -0.0960639 ],\n",
       "       [-0.11710987, -0.7750148 , -0.6137261 , -0.54421055, -0.7870914 ]],\n",
       "      dtype=float32)"
      ]
     },
     "execution_count": 53,
     "metadata": {},
     "output_type": "execute_result"
    }
   ],
   "source": [
    "print(temp.shape)\n",
    "temp"
   ]
  },
  {
   "cell_type": "code",
   "execution_count": 54,
   "metadata": {},
   "outputs": [],
   "source": [
    "noisy_temp = np.asarray(adversarialModel(temp.reshape(-1, 5)))"
   ]
  },
  {
   "cell_type": "code",
   "execution_count": 55,
   "metadata": {},
   "outputs": [
    {
     "data": {
      "text/plain": [
       "array([[-0.07132854,  0.10668082,  0.62216264,  0.97147983, -0.20473191],\n",
       "       [-0.12938182, -0.02969338,  0.67064196,  0.41345605,  0.38042086],\n",
       "       [-0.2074758 ,  0.04486365,  0.66836375,  0.9763742 , -0.4550676 ],\n",
       "       [-0.03284572,  0.03093785,  0.83426195, -0.05421574,  0.74733955],\n",
       "       [ 0.03263882,  0.01525571,  0.12281962,  0.98499537, -0.05386202],\n",
       "       [-0.05933964,  0.08230284,  0.5348388 ,  0.9741815 , -0.17105953]],\n",
       "      dtype=float32)"
      ]
     },
     "execution_count": 55,
     "metadata": {},
     "output_type": "execute_result"
    }
   ],
   "source": [
    "noisy_temp"
   ]
  },
  {
   "cell_type": "code",
   "execution_count": 56,
   "metadata": {},
   "outputs": [
    {
     "data": {
      "text/plain": [
       "array([[1.0000000e+00, 3.4001447e-11],\n",
       "       [1.0516195e-01, 8.9483804e-01],\n",
       "       [1.0000000e+00, 4.0157003e-10],\n",
       "       [7.1055539e-02, 9.2894447e-01],\n",
       "       [1.0000000e+00, 4.8073739e-10],\n",
       "       [1.0000000e+00, 4.5634718e-11]], dtype=float32)"
      ]
     },
     "execution_count": 56,
     "metadata": {},
     "output_type": "execute_result"
    }
   ],
   "source": [
    "classifierModel.predict(temp.reshape(-1, 5))"
   ]
  },
  {
   "cell_type": "code",
   "execution_count": 57,
   "metadata": {},
   "outputs": [
    {
     "data": {
      "text/plain": [
       "array([[0.07424838, 0.9257517 ],\n",
       "       [0.4165192 , 0.58348083],\n",
       "       [0.04830322, 0.9516968 ],\n",
       "       [0.15432946, 0.84567046],\n",
       "       [0.16255286, 0.83744717],\n",
       "       [0.0880539 , 0.91194606]], dtype=float32)"
      ]
     },
     "execution_count": 57,
     "metadata": {},
     "output_type": "execute_result"
    }
   ],
   "source": [
    "classifierModel.predict(noisy_temp.reshape(-1, 5))"
   ]
  },
  {
   "cell_type": "code",
   "execution_count": 58,
   "metadata": {},
   "outputs": [
    {
     "data": {
      "text/plain": [
       "0.7850654298013233"
      ]
     },
     "execution_count": 58,
     "metadata": {},
     "output_type": "execute_result"
    }
   ],
   "source": [
    "sum(modelHistory['reg_loss'])/len(modelHistory['reg_loss'])"
   ]
  },
  {
   "cell_type": "code",
   "execution_count": 59,
   "metadata": {},
   "outputs": [
    {
     "data": {
      "text/plain": [
       "0.8641845188945173"
      ]
     },
     "execution_count": 59,
     "metadata": {},
     "output_type": "execute_result"
    }
   ],
   "source": [
    "sum(modelHistory['miss_loss'])/len(modelHistory['miss_loss'])"
   ]
  },
  {
   "cell_type": "markdown",
   "metadata": {},
   "source": [
    "# Random Forest"
   ]
  },
  {
   "cell_type": "code",
   "execution_count": null,
   "metadata": {},
   "outputs": [],
   "source": [
    "REG_COEFF = 2.0\n",
    "MIS_COEFF = 1.0\n",
    "BATCH_SIZE = 80\n",
    "NUM_EPOCHS = 30\n",
    "modelHistory = {'reg_loss':[], 'miss_loss':[], 'values':[], 'noise':[], 'orig_labels':[],\\\n",
    "                'pred_labels':[], 'new_labels':[]}\n",
    "\n",
    "\n",
    "adversarialModel = tf.keras.models.Sequential([\n",
    "  tf.keras.layers.Dense(32, activation=tf.nn.relu),\n",
    "  tf.keras.layers.Dropout(0.2),\n",
    "  tf.keras.layers.Dense(5, activation=tf.nn.tanh)\n",
    "])\n",
    "\n",
    "dataset = tf.data.Dataset.from_tensor_slices(\n",
    "    (tf.cast(np.reshape(train_data[cols].values, newshape=(-1,5)), tf.float32),\n",
    "    tf.cast(np.reshape(train_data['Occupancy'].values, newshape=(-1,1)), tf.int64)))\n",
    "\n",
    "dataset = dataset.batch(BATCH_SIZE)"
   ]
  },
  {
   "cell_type": "code",
   "execution_count": null,
   "metadata": {},
   "outputs": [],
   "source": [
    "optimizer = tf.train.AdamOptimizer()\n",
    "\n",
    "for epoch in range(NUM_EPOCHS):\n",
    "\n",
    "    for (batch, (vals, orig_labels)) in enumerate(dataset.take(-1)):\n",
    "\n",
    "        with tf.GradientTape() as tape:\n",
    "            \n",
    "            y_out = list(rfclassifier.predict(x=vals.numpy()))\n",
    "            pred_labels = [i['probabilities'] for i in y_out]\n",
    "            noise = adversarialModel(vals)\n",
    "            new_labels = classifierModel(tf.add(vals, noise))\n",
    "\n",
    "            regTerm = tf.math.multiply(tf.reduce_mean(tf.math.abs(noise)), REG_COEFF)\n",
    "            missTerm = tf.math.multiply(tf.reduce_mean(tf.keras.losses.sparse_categorical_crossentropy(\n",
    "                            tf.math.subtract(1, tf.argmax(pred_labels, axis=1)), new_labels)), MIS_COEFF)\n",
    "\n",
    "            loss = tf.add(regTerm, missTerm)\n",
    "\n",
    "        grads = tape.gradient(loss, adversarialModel.trainable_variables)\n",
    "        optimizer.apply_gradients(zip(grads, adversarialModel.trainable_variables), global_step=tf.train.get_or_create_global_step())\n",
    "\n",
    "        if batch % 10 == 0:\n",
    "            modelHistory['reg_loss'].append(regTerm.numpy())\n",
    "            modelHistory['miss_loss'].append(missTerm.numpy())\n",
    "            modelHistory['noise'].append(noise.numpy())\n",
    "            modelHistory['values'].append(vals.numpy())\n",
    "            modelHistory['orig_labels'].append(orig_labels)\n",
    "            modelHistory['pred_labels'].append(pred_labels)\n",
    "            modelHistory['new_labels'].append(new_labels.numpy())\n",
    "        temp1 = modelHistory['reg_loss'][-1] + modelHistory['miss_loss'][-1]\n",
    "        temp2 = modelHistory['reg_loss'][-2] + modelHistory['miss_loss'][-2]\n",
    "        if(abs(temp2 - temp1) < 1e-3):\n",
    "            break"
   ]
  },
  {
   "cell_type": "code",
   "execution_count": null,
   "metadata": {},
   "outputs": [],
   "source": [
    " for (batch, (vals, orig_labels)) in enumerate(dataset.take(1)):\n",
    "    print(vals)\n",
    "        "
   ]
  },
  {
   "cell_type": "code",
   "execution_count": null,
   "metadata": {},
   "outputs": [],
   "source": [
    "test_data[cols].values.astype('float32').shape"
   ]
  },
  {
   "cell_type": "code",
   "execution_count": null,
   "metadata": {},
   "outputs": [],
   "source": []
  }
 ],
 "metadata": {
  "kernelspec": {
   "display_name": "Python 3",
   "language": "python",
   "name": "python3"
  },
  "language_info": {
   "codemirror_mode": {
    "name": "ipython",
    "version": 3
   },
   "file_extension": ".py",
   "mimetype": "text/x-python",
   "name": "python",
   "nbconvert_exporter": "python",
   "pygments_lexer": "ipython3",
   "version": "3.6.5"
  }
 },
 "nbformat": 4,
 "nbformat_minor": 2
}
