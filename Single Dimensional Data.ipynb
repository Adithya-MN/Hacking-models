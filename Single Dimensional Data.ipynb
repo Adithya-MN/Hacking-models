{
 "cells": [
  {
   "cell_type": "code",
   "execution_count": 1,
   "metadata": {},
   "outputs": [],
   "source": [
    "import tensorflow as tf\n",
    "import numpy as np"
   ]
  },
  {
   "cell_type": "code",
   "execution_count": 2,
   "metadata": {},
   "outputs": [],
   "source": [
    "import seaborn as sns\n",
    "import pandas as pd\n",
    "import matplotlib.pyplot as plt"
   ]
  },
  {
   "cell_type": "code",
   "execution_count": 3,
   "metadata": {},
   "outputs": [],
   "source": [
    "tf.enable_eager_execution()"
   ]
  },
  {
   "cell_type": "code",
   "execution_count": 4,
   "metadata": {},
   "outputs": [],
   "source": [
    "np.set_printoptions(formatter={'float': lambda x: \"{0:0.5f}\".format(x)})"
   ]
  },
  {
   "cell_type": "markdown",
   "metadata": {},
   "source": [
    "### CREATING DATA"
   ]
  },
  {
   "cell_type": "code",
   "execution_count": 6,
   "metadata": {},
   "outputs": [],
   "source": [
    "TRAIN_EXAMPLES = 10000\n",
    "TRAIN_EXAMPLES_ADV = 1000\n",
    "TEST_EXAMPLES = 100\n",
    "\n",
    "train_inputs  = np.random.uniform(size=TRAIN_EXAMPLES, low=0, high=10)\n",
    "train_inputs_adv  = np.random.uniform(size=TRAIN_EXAMPLES_ADV, low=0, high=10)\n",
    "test_inputs = np.random.uniform(size=TEST_EXAMPLES, low=0, high=10)"
   ]
  },
  {
   "cell_type": "code",
   "execution_count": 7,
   "metadata": {},
   "outputs": [],
   "source": [
    "train_data = pd.DataFrame({'Value':train_inputs, 'Label':((np.floor(train_inputs) % 2) == 0).astype('int32')})\n",
    "train_data_adv = pd.DataFrame({'Value':train_inputs_adv, 'Label':((np.floor(train_inputs_adv) % 2) == 0).astype('int32')})\n",
    "test_data = pd.DataFrame({'Value':test_inputs, 'Label':((np.floor(test_inputs) % 2) == 0).astype('int32')})"
   ]
  },
  {
   "cell_type": "code",
   "execution_count": 36,
   "metadata": {},
   "outputs": [
    {
     "data": {
      "text/html": [
       "<div>\n",
       "<style scoped>\n",
       "    .dataframe tbody tr th:only-of-type {\n",
       "        vertical-align: middle;\n",
       "    }\n",
       "\n",
       "    .dataframe tbody tr th {\n",
       "        vertical-align: top;\n",
       "    }\n",
       "\n",
       "    .dataframe thead th {\n",
       "        text-align: right;\n",
       "    }\n",
       "</style>\n",
       "<table border=\"1\" class=\"dataframe\">\n",
       "  <thead>\n",
       "    <tr style=\"text-align: right;\">\n",
       "      <th></th>\n",
       "      <th>Value</th>\n",
       "      <th>Label</th>\n",
       "    </tr>\n",
       "  </thead>\n",
       "  <tbody>\n",
       "    <tr>\n",
       "      <th>0</th>\n",
       "      <td>4.690665</td>\n",
       "      <td>1</td>\n",
       "    </tr>\n",
       "    <tr>\n",
       "      <th>1</th>\n",
       "      <td>0.070493</td>\n",
       "      <td>1</td>\n",
       "    </tr>\n",
       "    <tr>\n",
       "      <th>2</th>\n",
       "      <td>2.979672</td>\n",
       "      <td>1</td>\n",
       "    </tr>\n",
       "    <tr>\n",
       "      <th>3</th>\n",
       "      <td>3.561844</td>\n",
       "      <td>0</td>\n",
       "    </tr>\n",
       "    <tr>\n",
       "      <th>4</th>\n",
       "      <td>1.653772</td>\n",
       "      <td>0</td>\n",
       "    </tr>\n",
       "  </tbody>\n",
       "</table>\n",
       "</div>"
      ],
      "text/plain": [
       "      Value  Label\n",
       "0  4.690665      1\n",
       "1  0.070493      1\n",
       "2  2.979672      1\n",
       "3  3.561844      0\n",
       "4  1.653772      0"
      ]
     },
     "execution_count": 36,
     "metadata": {},
     "output_type": "execute_result"
    }
   ],
   "source": [
    "train_data_adv.head()"
   ]
  },
  {
   "cell_type": "code",
   "execution_count": 7,
   "metadata": {},
   "outputs": [
    {
     "data": {
      "text/plain": [
       "<seaborn.axisgrid.FacetGrid at 0x1f378bb46d8>"
      ]
     },
     "execution_count": 7,
     "metadata": {},
     "output_type": "execute_result"
    },
    {
     "data": {
      "image/png": "[encoded data removed]",
      "text/plain": [
       "<Figure size 360x360 with 1 Axes>"
      ]
     },
     "metadata": {
      "needs_background": "light"
     },
     "output_type": "display_data"
    }
   ],
   "source": [
    "sns.catplot(data=train_data, y='Value', x='Label')"
   ]
  },
  {
   "cell_type": "code",
   "execution_count": 8,
   "metadata": {},
   "outputs": [
    {
     "data": {
      "text/plain": [
       "<seaborn.axisgrid.FacetGrid at 0x1f37acdf860>"
      ]
     },
     "execution_count": 8,
     "metadata": {},
     "output_type": "execute_result"
    },
    {
     "data": {
      "image/png": "[encoded data removed]",
      "text/plain": [
       "<Figure size 360x360 with 1 Axes>"
      ]
     },
     "metadata": {
      "needs_background": "light"
     },
     "output_type": "display_data"
    }
   ],
   "source": [
    "sns.catplot(data=test_data, y='Value', x='Label')"
   ]
  },
  {
   "cell_type": "markdown",
   "metadata": {},
   "source": [
    "### TRAINING MODEL"
   ]
  },
  {
   "cell_type": "markdown",
   "metadata": {},
   "source": [
    "##### Decision Tree"
   ]
  },
  {
   "cell_type": "code",
   "execution_count": 9,
   "metadata": {},
   "outputs": [],
   "source": [
    "from sklearn.tree import DecisionTreeClassifier\n",
    "from sklearn.metrics import accuracy_score"
   ]
  },
  {
   "cell_type": "code",
   "execution_count": 10,
   "metadata": {},
   "outputs": [
    {
     "data": {
      "text/plain": [
       "DecisionTreeClassifier(class_weight=None, criterion='gini', max_depth=None,\n",
       "            max_features=None, max_leaf_nodes=None,\n",
       "            min_impurity_decrease=0.0, min_impurity_split=None,\n",
       "            min_samples_leaf=1, min_samples_split=2,\n",
       "            min_weight_fraction_leaf=0.0, presort=False, random_state=7,\n",
       "            splitter='best')"
      ]
     },
     "execution_count": 10,
     "metadata": {},
     "output_type": "execute_result"
    }
   ],
   "source": [
    "myTree = DecisionTreeClassifier(random_state=7)\n",
    "myTree.fit(train_data['Value'].values.reshape(-1,1), train_data['Label'].values.reshape(-1,1))"
   ]
  },
  {
   "cell_type": "code",
   "execution_count": 11,
   "metadata": {},
   "outputs": [
    {
     "data": {
      "text/plain": [
       "1.0"
      ]
     },
     "execution_count": 11,
     "metadata": {},
     "output_type": "execute_result"
    }
   ],
   "source": [
    "y_pred = myTree.predict(test_data['Value'].values.reshape(-1,1))\n",
    "accuracy_score(y_pred, test_data['Label'].values)"
   ]
  },
  {
   "cell_type": "markdown",
   "metadata": {},
   "source": [
    "##### Neural Network"
   ]
  },
  {
   "cell_type": "code",
   "execution_count": 11,
   "metadata": {},
   "outputs": [],
   "source": [
    "classifierModel = tf.keras.models.Sequential([\n",
    "  tf.keras.layers.Dense(512, activation=tf.nn.relu),\n",
    "  tf.keras.layers.Dropout(0.4),\n",
    "  tf.keras.layers.Dense(256, activation=tf.nn.relu),\n",
    "  tf.keras.layers.Dropout(0.4),\n",
    "  tf.keras.layers.Dense(128, activation=tf.nn.relu),\n",
    "  tf.keras.layers.Dropout(0.2),\n",
    "  tf.keras.layers.Dense(2, activation=tf.nn.softmax)\n",
    "])\n",
    "\n",
    "classifierModel.compile(optimizer=tf.train.AdamOptimizer(),\n",
    "             loss='sparse_categorical_crossentropy',\n",
    "             metrics=['accuracy'])"
   ]
  },
  {
   "cell_type": "code",
   "execution_count": null,
   "metadata": {
    "scrolled": true
   },
   "outputs": [],
   "source": [
    "classifierModel.fit(np.reshape(train_data['Value'].values.astype(np.float64), newshape=(-1,1)), \n",
    "                    np.reshape(train_data['Label'].values.astype(np.int64), newshape=(-1,1)),\n",
    "                    epochs=2, batch_size=50, validation_split=0.2)"
   ]
  },
  {
   "cell_type": "code",
   "execution_count": 14,
   "metadata": {},
   "outputs": [
    {
     "name": "stdout",
     "output_type": "stream",
     "text": [
      "4/4 [==============================] - 0s 7ms/step\n"
     ]
    },
    {
     "data": {
      "text/plain": [
       "[0.3036344909667969, 0.89]"
      ]
     },
     "execution_count": 14,
     "metadata": {},
     "output_type": "execute_result"
    }
   ],
   "source": [
    "classifierModel.evaluate(test_data['Value'].values.astype(np.float64), test_data['Label'].values.astype(np.int64))"
   ]
  },
  {
   "cell_type": "code",
   "execution_count": 15,
   "metadata": {},
   "outputs": [],
   "source": [
    "classifierModel.save_weights('./classifierNNWeights')"
   ]
  },
  {
   "cell_type": "markdown",
   "metadata": {},
   "source": [
    "### TRAINING NOISE"
   ]
  },
  {
   "cell_type": "markdown",
   "metadata": {},
   "source": [
    "##### NN with Cross Entropy"
   ]
  },
  {
   "cell_type": "code",
   "execution_count": 8,
   "metadata": {},
   "outputs": [],
   "source": [
    "REG_COEFF = 1.5\n",
    "MIS_COEFF = 5.0\n",
    "BATCH_SIZE = 10\n",
    "NUM_EPOCHS = 200\n",
    "modelHistory = {'reg_loss':[], 'miss_loss':[], 'values':[], 'noise':[], 'orig_labels':[], 'pred_labels':[], 'new_labels':[]}\n",
    "\n",
    "\n",
    "adversarialModel = tf.keras.models.Sequential([\n",
    "  tf.keras.layers.Dense(32, activation=tf.nn.relu),\n",
    "  tf.keras.layers.Dropout(0.2),\n",
    "  tf.keras.layers.Dense(1, activation=tf.nn.tanh)\n",
    "])\n",
    "\n",
    "dataset = tf.data.Dataset.from_tensor_slices(\n",
    "    (tf.cast(np.reshape(train_data_adv['Value'].values, newshape=(-1,1)), tf.float32),\n",
    "    tf.cast(np.reshape(train_data_adv['Label'].values, newshape=(-1,1)), tf.int64)))\n",
    "\n",
    "dataset = dataset.batch(BATCH_SIZE)"
   ]
  },
  {
   "cell_type": "code",
   "execution_count": 9,
   "metadata": {},
   "outputs": [
    {
     "ename": "ValueError",
     "evalue": "This model has never been called, thus its weights have not yet been created, so no summary can be displayed. Build the model first (e.g. by calling it on some data).",
     "output_type": "error",
     "traceback": [
      "\u001b[1;31m---------------------------------------------------------------------------\u001b[0m",
      "\u001b[1;31mValueError\u001b[0m                                Traceback (most recent call last)",
      "\u001b[1;32m<ipython-input-9-4095b96caf96>\u001b[0m in \u001b[0;36m<module>\u001b[1;34m\u001b[0m\n\u001b[1;32m----> 1\u001b[1;33m \u001b[0madversarialModel\u001b[0m\u001b[1;33m.\u001b[0m\u001b[0msummary\u001b[0m\u001b[1;33m(\u001b[0m\u001b[1;33m)\u001b[0m\u001b[1;33m\u001b[0m\u001b[1;33m\u001b[0m\u001b[0m\n\u001b[0m",
      "\u001b[1;32mc:\\users\\shivin\\anaconda3\\envs\\tensorflow\\lib\\site-packages\\tensorflow\\python\\keras\\engine\\network.py\u001b[0m in \u001b[0;36msummary\u001b[1;34m(self, line_length, positions, print_fn)\u001b[0m\n\u001b[0;32m   1635\u001b[0m     \"\"\"\n\u001b[0;32m   1636\u001b[0m     \u001b[1;32mif\u001b[0m \u001b[1;32mnot\u001b[0m \u001b[0mself\u001b[0m\u001b[1;33m.\u001b[0m\u001b[0mbuilt\u001b[0m\u001b[1;33m:\u001b[0m\u001b[1;33m\u001b[0m\u001b[1;33m\u001b[0m\u001b[0m\n\u001b[1;32m-> 1637\u001b[1;33m       raise ValueError('This model has never been called, thus its weights '\n\u001b[0m\u001b[0;32m   1638\u001b[0m                        \u001b[1;34m'have not yet been created, so no summary can be '\u001b[0m\u001b[1;33m\u001b[0m\u001b[1;33m\u001b[0m\u001b[0m\n\u001b[0;32m   1639\u001b[0m                        \u001b[1;34m'displayed. Build the model first '\u001b[0m\u001b[1;33m\u001b[0m\u001b[1;33m\u001b[0m\u001b[0m\n",
      "\u001b[1;31mValueError\u001b[0m: This model has never been called, thus its weights have not yet been created, so no summary can be displayed. Build the model first (e.g. by calling it on some data)."
     ]
    }
   ],
   "source": [
    "adversarialModel.summary()"
   ]
  },
  {
   "cell_type": "code",
   "execution_count": 10,
   "metadata": {},
   "outputs": [
    {
     "ename": "NameError",
     "evalue": "name 'classifierModel' is not defined",
     "output_type": "error",
     "traceback": [
      "\u001b[1;31m---------------------------------------------------------------------------\u001b[0m",
      "\u001b[1;31mNameError\u001b[0m                                 Traceback (most recent call last)",
      "\u001b[1;32m<ipython-input-10-a2b4af8d31d7>\u001b[0m in \u001b[0;36m<module>\u001b[1;34m\u001b[0m\n\u001b[0;32m      7\u001b[0m         \u001b[1;32mwith\u001b[0m \u001b[0mtf\u001b[0m\u001b[1;33m.\u001b[0m\u001b[0mGradientTape\u001b[0m\u001b[1;33m(\u001b[0m\u001b[1;33m)\u001b[0m \u001b[1;32mas\u001b[0m \u001b[0mtape\u001b[0m\u001b[1;33m:\u001b[0m\u001b[1;33m\u001b[0m\u001b[1;33m\u001b[0m\u001b[0m\n\u001b[0;32m      8\u001b[0m \u001b[1;33m\u001b[0m\u001b[0m\n\u001b[1;32m----> 9\u001b[1;33m             \u001b[0mpred_labels\u001b[0m \u001b[1;33m=\u001b[0m \u001b[0mclassifierModel\u001b[0m\u001b[1;33m(\u001b[0m\u001b[0mvals\u001b[0m\u001b[1;33m)\u001b[0m\u001b[1;33m\u001b[0m\u001b[1;33m\u001b[0m\u001b[0m\n\u001b[0m\u001b[0;32m     10\u001b[0m             \u001b[0mnoise\u001b[0m \u001b[1;33m=\u001b[0m \u001b[0madversarialModel\u001b[0m\u001b[1;33m(\u001b[0m\u001b[0mvals\u001b[0m\u001b[1;33m)\u001b[0m\u001b[1;33m\u001b[0m\u001b[1;33m\u001b[0m\u001b[0m\n\u001b[0;32m     11\u001b[0m             \u001b[0mnew_labels\u001b[0m \u001b[1;33m=\u001b[0m \u001b[0mclassifierModel\u001b[0m\u001b[1;33m(\u001b[0m\u001b[0mtf\u001b[0m\u001b[1;33m.\u001b[0m\u001b[0madd\u001b[0m\u001b[1;33m(\u001b[0m\u001b[0mvals\u001b[0m\u001b[1;33m,\u001b[0m \u001b[0mnoise\u001b[0m\u001b[1;33m)\u001b[0m\u001b[1;33m)\u001b[0m\u001b[1;33m\u001b[0m\u001b[1;33m\u001b[0m\u001b[0m\n",
      "\u001b[1;31mNameError\u001b[0m: name 'classifierModel' is not defined"
     ]
    }
   ],
   "source": [
    "optimizer = tf.train.AdamOptimizer()\n",
    "\n",
    "for epoch in range(NUM_EPOCHS):\n",
    "\n",
    "    for (batch, (vals, orig_labels)) in enumerate(dataset.take(-1)):\n",
    "\n",
    "        with tf.GradientTape() as tape:\n",
    "            \n",
    "            pred_labels = classifierModel(vals)\n",
    "            noise = adversarialModel(vals)\n",
    "            new_labels = classifierModel(tf.add(vals, noise))\n",
    "\n",
    "            regTerm = tf.math.multiply(tf.reduce_mean(tf.math.abs(noise)), REG_COEFF)\n",
    "#             missTerm = tf.math.multiply(tf.reduce_mean(tf.keras.losses.sparse_categorical_crossentropy(\n",
    "#                             tf.math.subtract(1, tf.argmax(pred_labels, axis=1)), new_labels)), MIS_COEFF)\n",
    "            missTerm = tf.math.multiply(myLoss(pred_labels, new_labels), MIS_COEFF)\n",
    "\n",
    "            loss = tf.add(regTerm, missTerm)\n",
    "\n",
    "        grads = tape.gradient(loss, adversarialModel.trainable_variables)\n",
    "        optimizer.apply_gradients(zip(grads, adversarialModel.trainable_variables), global_step=tf.train.get_or_create_global_step())\n",
    "\n",
    "        if batch % 50 == 0:\n",
    "            modelHistory['reg_loss'].append(regTerm.numpy())\n",
    "            modelHistory['miss_loss'].append(missTerm.numpy())\n",
    "            modelHistory['noise'].append(noise.numpy())\n",
    "            modelHistory['values'].append(vals.numpy())\n",
    "            modelHistory['orig_labels'].append(orig_labels.numpy())\n",
    "            modelHistory['pred_labels'].append(pred_labels.numpy())\n",
    "            modelHistory['new_labels'].append(new_labels.numpy())\n"
   ]
  },
  {
   "cell_type": "code",
   "execution_count": 224,
   "metadata": {},
   "outputs": [
    {
     "data": {
      "text/plain": [
       "[<matplotlib.lines.Line2D at 0x1f3074bd908>]"
      ]
     },
     "execution_count": 224,
     "metadata": {},
     "output_type": "execute_result"
    },
    {
     "data": {
      "image/png": "[encoded data removed]",
      "text/plain": [
       "<Figure size 1080x288 with 1 Axes>"
      ]
     },
     "metadata": {
      "needs_background": "light"
     },
     "output_type": "display_data"
    }
   ],
   "source": [
    "plt.figure(figsize=(15,4))\n",
    "plt.plot(modelHistory['reg_loss'])\n",
    "plt.plot(modelHistory['miss_loss'])\n",
    "# plt.savefig('Plot-3.png')"
   ]
  },
  {
   "cell_type": "code",
   "execution_count": 225,
   "metadata": {},
   "outputs": [
    {
     "data": {
      "text/plain": [
       "<tf.Tensor: id=58072354, shape=(4, 1), dtype=float32, numpy=\n",
       "array([[-0.99986],\n",
       "       [-1.00000],\n",
       "       [-0.99830],\n",
       "       [-1.00000]], dtype=float32)>"
      ]
     },
     "execution_count": 225,
     "metadata": {},
     "output_type": "execute_result"
    }
   ],
   "source": [
    "adversarialModel([[2.5], [3.4], [2.2], [7.7]])"
   ]
  },
  {
   "cell_type": "code",
   "execution_count": 26,
   "metadata": {},
   "outputs": [],
   "source": [
    "pred_temp = tf.constant([[0.01147, 0.98853],\n",
    "         [0.00000, 1.00000],\n",
    "         [0.99151, 0.00849],\n",
    "         [0.26106, 0.73894],\n",
    "         [0.50131, 0.49869],\n",
    "         [0.99630, 0.00370],\n",
    "         [0.44431, 0.55569],\n",
    "         [0.42876, 0.57124],\n",
    "         [0.22989, 0.77011],\n",
    "         [0.00000, 1.00000]])\n",
    "new_temp = tf.constant([[0.00954, 0.99046],\n",
    "         [0.00000, 1.00000],\n",
    "         [0.99190, 0.00810],\n",
    "         [0.23041, 0.76959],\n",
    "         [0.81404, 0.18596],\n",
    "         [0.99646, 0.00354],\n",
    "         [0.42733, 0.57267],\n",
    "         [0.41239, 0.58761],\n",
    "         [0.21904, 0.78096],\n",
    "         [0.00000, 1.00000]])\n",
    "miss_loss = 5.375216"
   ]
  },
  {
   "cell_type": "code",
   "execution_count": 27,
   "metadata": {},
   "outputs": [
    {
     "data": {
      "text/plain": [
       "<tf.Tensor: id=6223619, shape=(), dtype=float32, numpy=5.375258>"
      ]
     },
     "execution_count": 27,
     "metadata": {},
     "output_type": "execute_result"
    }
   ],
   "source": [
    "tf.reduce_mean(tf.keras.losses.sparse_categorical_crossentropy(tf.math.subtract(1, tf.argmax(pred_temp, axis=1)), new_temp))"
   ]
  },
  {
   "cell_type": "code",
   "execution_count": 196,
   "metadata": {},
   "outputs": [],
   "source": [
    "def myLoss(pred, new):\n",
    "    pred_sparse_inv = tf.math.subtract(1, tf.argmax(pred, axis=1))\n",
    "#     print(\"ORIGINAL PRED :\", tf.argmax(pred, axis=1))\n",
    "#     print(\"INVERTED PRED :\", pred_sparse_inv.numpy())\n",
    "    \n",
    "    pred_ohe = tf.one_hot(pred_sparse_inv, depth=2, dtype='float32')\n",
    "#     print(\"OHE PRED :\", pred_ohe)\n",
    "    \n",
    "    new_lower = tf.math.multiply(new, pred_ohe)\n",
    "#     print(\"NEW LOWER :\", new_lower)\n",
    "    \n",
    "    final_new = tf.nn.relu(tf.math.subtract(0.6, tf.reduce_sum(new_lower, axis=1)))\n",
    "#     print(\"SUMMED LOWER :\", final_new)\n",
    "    \n",
    "#     print(\"FINAL LOSS :\", tf.reduce_mean(new_lower))\n",
    "    return tf.reduce_mean(final_new)\n",
    "    "
   ]
  },
  {
   "cell_type": "code",
   "execution_count": 84,
   "metadata": {},
   "outputs": [
    {
     "data": {
      "text/plain": [
       "<tf.Tensor: id=25648552, shape=(2,), dtype=float32, numpy=array([2.50000, 0.00000], dtype=float32)>"
      ]
     },
     "execution_count": 84,
     "metadata": {},
     "output_type": "execute_result"
    }
   ],
   "source": [
    "tf.math.multiply([1.0,0],[2.5,3])"
   ]
  },
  {
   "cell_type": "code",
   "execution_count": 157,
   "metadata": {},
   "outputs": [
    {
     "data": {
      "text/plain": [
       "<tf.Tensor: id=41011300, shape=(), dtype=float32, numpy=0.65036905>"
      ]
     },
     "execution_count": 157,
     "metadata": {},
     "output_type": "execute_result"
    }
   ],
   "source": [
    "myLoss(pred_temp, new_temp)"
   ]
  },
  {
   "cell_type": "code",
   "execution_count": 158,
   "metadata": {},
   "outputs": [
    {
     "data": {
      "text/plain": [
       "array([[1.00000],\n",
       "       [1.00000],\n",
       "       [1.00000],\n",
       "       [1.00000],\n",
       "       [1.00000],\n",
       "       [1.00000],\n",
       "       [1.00000],\n",
       "       [1.00000],\n",
       "       [1.00000],\n",
       "       [1.00000]], dtype=float32)"
      ]
     },
     "execution_count": 158,
     "metadata": {},
     "output_type": "execute_result"
    }
   ],
   "source": [
    "modelHistory['noise'][-1]"
   ]
  },
  {
   "cell_type": "code",
   "execution_count": 159,
   "metadata": {},
   "outputs": [
    {
     "data": {
      "text/plain": [
       "array([[6.28107],\n",
       "       [4.63577],\n",
       "       [3.30958],\n",
       "       [5.59133],\n",
       "       [5.80522],\n",
       "       [5.00840],\n",
       "       [1.05843],\n",
       "       [3.80513],\n",
       "       [4.39730],\n",
       "       [3.86903]], dtype=float32)"
      ]
     },
     "execution_count": 159,
     "metadata": {},
     "output_type": "execute_result"
    }
   ],
   "source": [
    "modelHistory['values'][-1]"
   ]
  },
  {
   "cell_type": "code",
   "execution_count": 160,
   "metadata": {
    "scrolled": true
   },
   "outputs": [
    {
     "data": {
      "text/plain": [
       "array([[0.29222, 0.70778],\n",
       "       [0.09457, 0.90543],\n",
       "       [0.97871, 0.02129],\n",
       "       [0.88215, 0.11785],\n",
       "       [0.69846, 0.30154],\n",
       "       [0.18106, 0.81894],\n",
       "       [0.98794, 0.01206],\n",
       "       [0.98070, 0.01930],\n",
       "       [0.09049, 0.90951],\n",
       "       [0.94085, 0.05915]], dtype=float32)"
      ]
     },
     "execution_count": 160,
     "metadata": {},
     "output_type": "execute_result"
    }
   ],
   "source": [
    "modelHistory['pred_labels'][-1]"
   ]
  },
  {
   "cell_type": "code",
   "execution_count": 161,
   "metadata": {
    "scrolled": true
   },
   "outputs": [
    {
     "data": {
      "text/plain": [
       "array([[0.35022, 0.64978],\n",
       "       [0.85833, 0.14167],\n",
       "       [0.09011, 0.90989],\n",
       "       [0.30771, 0.69229],\n",
       "       [0.32027, 0.67973],\n",
       "       [0.39361, 0.60639],\n",
       "       [0.04696, 0.95304],\n",
       "       [0.11044, 0.88956],\n",
       "       [0.92974, 0.07026],\n",
       "       [0.12120, 0.87880]], dtype=float32)"
      ]
     },
     "execution_count": 161,
     "metadata": {},
     "output_type": "execute_result"
    }
   ],
   "source": [
    "modelHistory['new_labels'][-1]"
   ]
  },
  {
   "cell_type": "code",
   "execution_count": 142,
   "metadata": {},
   "outputs": [
    {
     "name": "stdout",
     "output_type": "stream",
     "text": [
      "SUMMED LOWER : tf.Tensor(\n",
      "[0.09978 0.00000 0.00000 0.00000 0.00000 0.05639 0.00000 0.00000 0.00000\n",
      " 0.00000], shape=(10,), dtype=float32)\n"
     ]
    },
    {
     "data": {
      "text/plain": [
       "<tf.Tensor: id=34838894, shape=(), dtype=float32, numpy=0.015616899>"
      ]
     },
     "execution_count": 142,
     "metadata": {},
     "output_type": "execute_result"
    }
   ],
   "source": [
    "myLoss(modelHistory['pred_labels'][-1], modelHistory['new_labels'][-1])"
   ]
  },
  {
   "cell_type": "markdown",
   "metadata": {},
   "source": [
    "##### NN with MSE"
   ]
  },
  {
   "cell_type": "code",
   "execution_count": 181,
   "metadata": {},
   "outputs": [],
   "source": [
    "REG_COEFF = 10.0\n",
    "MIS_COEFF = 1.0\n",
    "BATCH_SIZE = 10\n",
    "NUM_EPOCHS = 10\n",
    "modelHistory = {'reg_loss':[], 'miss_loss':[], 'values':[], 'noise':[], 'orig_labels':[], 'pred_labels':[], 'new_labels':[]}\n",
    "\n",
    "\n",
    "adversarialModel = tf.keras.models.Sequential([\n",
    "  tf.keras.layers.Dense(32, activation=tf.nn.tanh),\n",
    "  tf.keras.layers.Dropout(0.2),\n",
    "  tf.keras.layers.Dense(1, activation=tf.nn.tanh)\n",
    "])\n",
    "\n",
    "dataset = tf.data.Dataset.from_tensor_slices(\n",
    "    (tf.cast(np.reshape(train_data['Value'].values, newshape=(-1,1)), tf.float32),\n",
    "    tf.cast(np.reshape(train_data['Label'].values, newshape=(-1,1)), tf.int64)))\n",
    "\n",
    "dataset = dataset.batch(BATCH_SIZE)"
   ]
  },
  {
   "cell_type": "code",
   "execution_count": 182,
   "metadata": {},
   "outputs": [
    {
     "ename": "ValueError",
     "evalue": "No gradients provided for any variable: [\"<tf.Variable 'sequential_27/dense_56/kernel:0' shape=(1, 32) dtype=float32, numpy=\\narray([[0.40769, -0.42173, 0.17348, 0.39773, -0.23833, 0.03840, -0.34746,\\n        0.34388, 0.34044, 0.23163, -0.16805, 0.10308, -0.01149, 0.02108,\\n        0.36514, -0.10401, 0.31591, -0.05579, -0.38195, 0.28266, 0.14739,\\n        -0.33268, 0.07754, 0.14226, 0.16608, 0.15056, -0.31268, 0.31612,\\n        -0.00803, 0.00937, 0.39809, -0.42474]], dtype=float32)>\", \"<tf.Variable 'sequential_27/dense_56/bias:0' shape=(32,) dtype=float32, numpy=\\narray([0.00000, 0.00000, 0.00000, 0.00000, 0.00000, 0.00000, 0.00000,\\n       0.00000, 0.00000, 0.00000, 0.00000, 0.00000, 0.00000, 0.00000,\\n       0.00000, 0.00000, 0.00000, 0.00000, 0.00000, 0.00000, 0.00000,\\n       0.00000, 0.00000, 0.00000, 0.00000, 0.00000, 0.00000, 0.00000,\\n       0.00000, 0.00000, 0.00000, 0.00000], dtype=float32)>\", \"<tf.Variable 'sequential_27/dense_57/kernel:0' shape=(32, 1) dtype=float32, numpy=\\narray([[-0.29608],\\n       [0.12203],\\n       [-0.08916],\\n       [0.06394],\\n       [0.37802],\\n       [-0.26736],\\n       [-0.01670],\\n       [0.03174],\\n       [-0.27751],\\n       [-0.33127],\\n       [-0.11258],\\n       [-0.23834],\\n       [-0.40621],\\n       [0.12249],\\n       [-0.34884],\\n       [0.02532],\\n       [-0.20805],\\n       [-0.22921],\\n       [-0.37431],\\n       [-0.39454],\\n       [0.10150],\\n       [0.15959],\\n       [0.32745],\\n       [-0.39941],\\n       [-0.31263],\\n       [-0.40050],\\n       [0.05922],\\n       [-0.26880],\\n       [-0.21995],\\n       [0.41699],\\n       [0.27475],\\n       [-0.31295]], dtype=float32)>\", \"<tf.Variable 'sequential_27/dense_57/bias:0' shape=(1,) dtype=float32, numpy=array([0.00000], dtype=float32)>\"].",
     "output_type": "error",
     "traceback": [
      "\u001b[1;31m---------------------------------------------------------------------------\u001b[0m",
      "\u001b[1;31mValueError\u001b[0m                                Traceback (most recent call last)",
      "\u001b[1;32m<ipython-input-182-851fe5e74663>\u001b[0m in \u001b[0;36m<module>\u001b[1;34m\u001b[0m\n\u001b[0;32m     19\u001b[0m \u001b[1;33m\u001b[0m\u001b[0m\n\u001b[0;32m     20\u001b[0m         \u001b[0mgrads\u001b[0m \u001b[1;33m=\u001b[0m \u001b[0mtape\u001b[0m\u001b[1;33m.\u001b[0m\u001b[0mgradient\u001b[0m\u001b[1;33m(\u001b[0m\u001b[0mloss\u001b[0m\u001b[1;33m,\u001b[0m \u001b[0madversarialModel\u001b[0m\u001b[1;33m.\u001b[0m\u001b[0mtrainable_variables\u001b[0m\u001b[1;33m)\u001b[0m\u001b[1;33m\u001b[0m\u001b[1;33m\u001b[0m\u001b[0m\n\u001b[1;32m---> 21\u001b[1;33m         \u001b[0moptimizer\u001b[0m\u001b[1;33m.\u001b[0m\u001b[0mapply_gradients\u001b[0m\u001b[1;33m(\u001b[0m\u001b[0mzip\u001b[0m\u001b[1;33m(\u001b[0m\u001b[0mgrads\u001b[0m\u001b[1;33m,\u001b[0m \u001b[0madversarialModel\u001b[0m\u001b[1;33m.\u001b[0m\u001b[0mtrainable_variables\u001b[0m\u001b[1;33m)\u001b[0m\u001b[1;33m,\u001b[0m \u001b[0mglobal_step\u001b[0m\u001b[1;33m=\u001b[0m\u001b[0mtf\u001b[0m\u001b[1;33m.\u001b[0m\u001b[0mtrain\u001b[0m\u001b[1;33m.\u001b[0m\u001b[0mget_or_create_global_step\u001b[0m\u001b[1;33m(\u001b[0m\u001b[1;33m)\u001b[0m\u001b[1;33m)\u001b[0m\u001b[1;33m\u001b[0m\u001b[1;33m\u001b[0m\u001b[0m\n\u001b[0m\u001b[0;32m     22\u001b[0m \u001b[1;33m\u001b[0m\u001b[0m\n\u001b[0;32m     23\u001b[0m         \u001b[1;32mif\u001b[0m \u001b[0mbatch\u001b[0m\u001b[1;33m%\u001b[0m\u001b[1;36m10\u001b[0m \u001b[1;33m==\u001b[0m \u001b[1;36m0\u001b[0m\u001b[1;33m:\u001b[0m\u001b[1;33m\u001b[0m\u001b[1;33m\u001b[0m\u001b[0m\n",
      "\u001b[1;32mc:\\users\\shivin\\anaconda3\\envs\\tensorflow\\lib\\site-packages\\tensorflow\\python\\training\\optimizer.py\u001b[0m in \u001b[0;36mapply_gradients\u001b[1;34m(self, grads_and_vars, global_step, name)\u001b[0m\n\u001b[0;32m    589\u001b[0m     \u001b[1;32mif\u001b[0m \u001b[1;32mnot\u001b[0m \u001b[0mvar_list\u001b[0m\u001b[1;33m:\u001b[0m\u001b[1;33m\u001b[0m\u001b[1;33m\u001b[0m\u001b[0m\n\u001b[0;32m    590\u001b[0m       raise ValueError(\"No gradients provided for any variable: %s.\" %\n\u001b[1;32m--> 591\u001b[1;33m                        ([str(v) for _, v, _ in converted_grads_and_vars],))\n\u001b[0m\u001b[0;32m    592\u001b[0m     \u001b[1;32mwith\u001b[0m \u001b[0mops\u001b[0m\u001b[1;33m.\u001b[0m\u001b[0minit_scope\u001b[0m\u001b[1;33m(\u001b[0m\u001b[1;33m)\u001b[0m\u001b[1;33m:\u001b[0m\u001b[1;33m\u001b[0m\u001b[1;33m\u001b[0m\u001b[0m\n\u001b[0;32m    593\u001b[0m       \u001b[0mself\u001b[0m\u001b[1;33m.\u001b[0m\u001b[0m_create_slots\u001b[0m\u001b[1;33m(\u001b[0m\u001b[0mvar_list\u001b[0m\u001b[1;33m)\u001b[0m\u001b[1;33m\u001b[0m\u001b[1;33m\u001b[0m\u001b[0m\n",
      "\u001b[1;31mValueError\u001b[0m: No gradients provided for any variable: [\"<tf.Variable 'sequential_27/dense_56/kernel:0' shape=(1, 32) dtype=float32, numpy=\\narray([[0.40769, -0.42173, 0.17348, 0.39773, -0.23833, 0.03840, -0.34746,\\n        0.34388, 0.34044, 0.23163, -0.16805, 0.10308, -0.01149, 0.02108,\\n        0.36514, -0.10401, 0.31591, -0.05579, -0.38195, 0.28266, 0.14739,\\n        -0.33268, 0.07754, 0.14226, 0.16608, 0.15056, -0.31268, 0.31612,\\n        -0.00803, 0.00937, 0.39809, -0.42474]], dtype=float32)>\", \"<tf.Variable 'sequential_27/dense_56/bias:0' shape=(32,) dtype=float32, numpy=\\narray([0.00000, 0.00000, 0.00000, 0.00000, 0.00000, 0.00000, 0.00000,\\n       0.00000, 0.00000, 0.00000, 0.00000, 0.00000, 0.00000, 0.00000,\\n       0.00000, 0.00000, 0.00000, 0.00000, 0.00000, 0.00000, 0.00000,\\n       0.00000, 0.00000, 0.00000, 0.00000, 0.00000, 0.00000, 0.00000,\\n       0.00000, 0.00000, 0.00000, 0.00000], dtype=float32)>\", \"<tf.Variable 'sequential_27/dense_57/kernel:0' shape=(32, 1) dtype=float32, numpy=\\narray([[-0.29608],\\n       [0.12203],\\n       [-0.08916],\\n       [0.06394],\\n       [0.37802],\\n       [-0.26736],\\n       [-0.01670],\\n       [0.03174],\\n       [-0.27751],\\n       [-0.33127],\\n       [-0.11258],\\n       [-0.23834],\\n       [-0.40621],\\n       [0.12249],\\n       [-0.34884],\\n       [0.02532],\\n       [-0.20805],\\n       [-0.22921],\\n       [-0.37431],\\n       [-0.39454],\\n       [0.10150],\\n       [0.15959],\\n       [0.32745],\\n       [-0.39941],\\n       [-0.31263],\\n       [-0.40050],\\n       [0.05922],\\n       [-0.26880],\\n       [-0.21995],\\n       [0.41699],\\n       [0.27475],\\n       [-0.31295]], dtype=float32)>\", \"<tf.Variable 'sequential_27/dense_57/bias:0' shape=(1,) dtype=float32, numpy=array([0.00000], dtype=float32)>\"]."
     ]
    }
   ],
   "source": [
    "optimizer = tf.train.AdamOptimizer()\n",
    "\n",
    "for epoch in range(NUM_EPOCHS):\n",
    "\n",
    "    for (batch, (vals, orig_labels)) in enumerate(dataset.take(-1)):\n",
    "        \n",
    "        with tf.GradientTape() as tape:\n",
    "            \n",
    "            pred_labels = classifierModel(vals)\n",
    "            noise = adversarialModel(vals)\n",
    "            new_labels = classifierModel(tf.add(vals, noise))\n",
    "\n",
    "            regTerm = tf.math.multiply(tf.reduce_mean(tf.math.abs(noise)), REG_COEFF)\n",
    "            missTerm = tf.math.multiply(tf.reduce_mean(tf.cast(tf.math.abs(\n",
    "                        tf.math.subtract(tf.argmax(new_labels, axis=1), \n",
    "                                         tf.math.subtract(1, tf.argmax(pred_labels, axis=1)))), dtype=tf.float32)), MIS_COEFF)\n",
    "\n",
    "            loss = tf.add(0.0, missTerm)\n",
    "\n",
    "        grads = tape.gradient(loss, adversarialModel.trainable_variables)\n",
    "        optimizer.apply_gradients(zip(grads, adversarialModel.trainable_variables), global_step=tf.train.get_or_create_global_step())\n",
    "        \n",
    "        if batch%10 == 0:\n",
    "            modelHistory['reg_loss'].append(regTerm.numpy())\n",
    "            modelHistory['miss_loss'].append(missTerm.numpy())\n",
    "            modelHistory['noise'].append(noise.numpy())\n",
    "            modelHistory['values'].append(vals.numpy())\n",
    "            modelHistory['orig_labels'].append(orig_labels.numpy())\n",
    "            modelHistory['pred_labels'].append(pred_labels.numpy())\n",
    "            modelHistory['new_labels'].append(new_labels.numpy())\n",
    "    "
   ]
  },
  {
   "cell_type": "code",
   "execution_count": 183,
   "metadata": {},
   "outputs": [
    {
     "data": {
      "text/plain": [
       "[<matplotlib.lines.Line2D at 0x26f9daa9588>]"
      ]
     },
     "execution_count": 183,
     "metadata": {},
     "output_type": "execute_result"
    },
    {
     "data": {
      "image/png": "[encoded data removed]",
      "text/plain": [
       "<Figure size 432x288 with 1 Axes>"
      ]
     },
     "metadata": {
      "needs_background": "light"
     },
     "output_type": "display_data"
    }
   ],
   "source": [
    "plt.plot(modelHistory['reg_loss'])\n",
    "plt.plot(modelHistory['miss_loss'])"
   ]
  },
  {
   "cell_type": "code",
   "execution_count": 162,
   "metadata": {},
   "outputs": [
    {
     "data": {
      "text/plain": [
       "<tf.Tensor: id=42075962, shape=(10,), dtype=int64, numpy=array([1, 0, 1, 1, 0, 0, 0, 1, 1, 0], dtype=int64)>"
      ]
     },
     "execution_count": 162,
     "metadata": {},
     "output_type": "execute_result"
    }
   ],
   "source": [
    "tf.argmax(modelHistory['pred_labels'][-1], axis=1)"
   ]
  },
  {
   "cell_type": "code",
   "execution_count": 163,
   "metadata": {},
   "outputs": [
    {
     "data": {
      "text/plain": [
       "<tf.Tensor: id=42075966, shape=(10,), dtype=int64, numpy=array([0, 0, 1, 1, 1, 0, 1, 0, 1, 1], dtype=int64)>"
      ]
     },
     "execution_count": 163,
     "metadata": {},
     "output_type": "execute_result"
    }
   ],
   "source": [
    "tf.argmax(modelHistory['new_labels'][-1], axis=1)"
   ]
  },
  {
   "cell_type": "code",
   "execution_count": 180,
   "metadata": {},
   "outputs": [
    {
     "data": {
      "text/plain": [
       "array([[0.00024],\n",
       "       [0.00045],\n",
       "       [0.00072],\n",
       "       [0.00084],\n",
       "       [0.00063],\n",
       "       [0.00181],\n",
       "       [-0.00011],\n",
       "       [0.00038],\n",
       "       [0.00085],\n",
       "       [0.00047]], dtype=float32)"
      ]
     },
     "execution_count": 180,
     "metadata": {},
     "output_type": "execute_result"
    }
   ],
   "source": [
    "modelHistory['noise'][-1]"
   ]
  },
  {
   "cell_type": "code",
   "execution_count": 165,
   "metadata": {},
   "outputs": [
    {
     "data": {
      "text/plain": [
       "array([[4.44658],\n",
       "       [4.97225],\n",
       "       [5.97969],\n",
       "       [6.46982],\n",
       "       [5.59160],\n",
       "       [9.38508],\n",
       "       [1.18535],\n",
       "       [4.77804],\n",
       "       [6.52005],\n",
       "       [5.05724]], dtype=float32)"
      ]
     },
     "execution_count": 165,
     "metadata": {},
     "output_type": "execute_result"
    }
   ],
   "source": [
    "modelHistory['values'][-1]"
   ]
  },
  {
   "cell_type": "code",
   "execution_count": 166,
   "metadata": {},
   "outputs": [
    {
     "data": {
      "text/plain": [
       "array([[0.07628, 0.92372],\n",
       "       [0.71141, 0.28859],\n",
       "       [0.25155, 0.74845],\n",
       "       [0.24900, 0.75100],\n",
       "       [0.89552, 0.10448],\n",
       "       [0.58070, 0.41930],\n",
       "       [0.99686, 0.00314],\n",
       "       [0.10741, 0.89259],\n",
       "       [0.26053, 0.73947],\n",
       "       [0.91246, 0.08754]], dtype=float32)"
      ]
     },
     "execution_count": 166,
     "metadata": {},
     "output_type": "execute_result"
    }
   ],
   "source": [
    "modelHistory['pred_labels'][-1]"
   ]
  },
  {
   "cell_type": "code",
   "execution_count": 167,
   "metadata": {
    "scrolled": false
   },
   "outputs": [
    {
     "data": {
      "text/plain": [
       "array([[0.95502, 0.04498],\n",
       "       [0.58634, 0.41366],\n",
       "       [0.28208, 0.71792],\n",
       "       [0.36203, 0.63797],\n",
       "       [0.22677, 0.77323],\n",
       "       [0.54220, 0.45780],\n",
       "       [0.00997, 0.99003],\n",
       "       [0.84883, 0.15117],\n",
       "       [0.36634, 0.63366],\n",
       "       [0.40068, 0.59932]], dtype=float32)"
      ]
     },
     "execution_count": 167,
     "metadata": {},
     "output_type": "execute_result"
    }
   ],
   "source": [
    "modelHistory['new_labels'][-1]"
   ]
  },
  {
   "cell_type": "markdown",
   "metadata": {},
   "source": [
    "##### Decision Tree with MSE"
   ]
  },
  {
   "cell_type": "code",
   "execution_count": 33,
   "metadata": {},
   "outputs": [],
   "source": [
    "REG_COEFF = 1.0\n",
    "MIS_COEFF = 5.0\n",
    "BATCH_SIZE = 10\n",
    "NUM_EPOCHS = 1\n",
    "modelHistory = {'reg_loss':[], 'miss_loss':[], 'values':[], 'noise':[], 'orig_labels':[], 'pred_labels':[], 'new_labels':[]}\n",
    "\n",
    "\n",
    "adversarialModel = tf.keras.models.Sequential([\n",
    "  tf.keras.layers.Dense(32, activation=tf.nn.tanh),\n",
    "  tf.keras.layers.Dropout(0.2),\n",
    "  tf.keras.layers.Dense(1, activation=tf.nn.tanh)\n",
    "])\n",
    "\n",
    "dataset = tf.data.Dataset.from_tensor_slices(\n",
    "    (tf.cast(np.reshape(train_data['Value'].values, newshape=(-1,1)), tf.float32),\n",
    "    tf.cast(np.reshape(train_data['Label'].values, newshape=(-1,1)), tf.int64)))\n",
    "\n",
    "dataset = dataset.batch(BATCH_SIZE)"
   ]
  },
  {
   "cell_type": "code",
   "execution_count": 34,
   "metadata": {},
   "outputs": [
    {
     "ename": "ValueError",
     "evalue": "No gradients provided for any variable: [\"<tf.Variable 'sequential_3/dense_6/kernel:0' shape=(1, 32) dtype=float32, numpy=\\narray([[ 2.88196266e-01,  3.85440886e-01,  4.61042225e-02,\\n         3.13634157e-01, -2.14485824e-01,  2.37595558e-01,\\n         3.65222454e-01,  2.92484403e-01,  4.05001998e-01,\\n         2.87741423e-01,  4.15382981e-01,  1.40994787e-04,\\n        -5.53731620e-02,  4.25974369e-01,  2.95409918e-01,\\n        -4.09557372e-01, -2.68551618e-01, -6.13611937e-03,\\n        -4.68383431e-02,  1.44419253e-01, -3.01740319e-01,\\n        -2.23388776e-01, -3.33287954e-01,  2.30480134e-01,\\n         3.58040512e-01,  2.95596182e-01,  1.00669205e-01,\\n         2.77746022e-01,  1.24676466e-01,  3.33411694e-01,\\n        -1.15648687e-01,  1.37585700e-01]], dtype=float32)>\", \"<tf.Variable 'sequential_3/dense_6/bias:0' shape=(32,) dtype=float32, numpy=\\narray([0., 0., 0., 0., 0., 0., 0., 0., 0., 0., 0., 0., 0., 0., 0., 0., 0.,\\n       0., 0., 0., 0., 0., 0., 0., 0., 0., 0., 0., 0., 0., 0., 0.],\\n      dtype=float32)>\", \"<tf.Variable 'sequential_3/dense_7/kernel:0' shape=(32, 1) dtype=float32, numpy=\\narray([[-0.25014216],\\n       [-0.02677321],\\n       [-0.16590044],\\n       [ 0.01334751],\\n       [ 0.11586785],\\n       [ 0.21186316],\\n       [ 0.29636788],\\n       [ 0.0011687 ],\\n       [ 0.15724003],\\n       [-0.41779187],\\n       [-0.03569192],\\n       [-0.37300092],\\n       [-0.09307066],\\n       [ 0.0190351 ],\\n       [-0.17378554],\\n       [ 0.15034372],\\n       [-0.1028659 ],\\n       [-0.29841077],\\n       [-0.23481406],\\n       [-0.3392158 ],\\n       [ 0.13119495],\\n       [ 0.36371744],\\n       [ 0.3285126 ],\\n       [-0.18267354],\\n       [-0.37584704],\\n       [-0.40394533],\\n       [ 0.03710786],\\n       [-0.2671455 ],\\n       [ 0.07168719],\\n       [ 0.29223043],\\n       [ 0.39716595],\\n       [ 0.2776329 ]], dtype=float32)>\", \"<tf.Variable 'sequential_3/dense_7/bias:0' shape=(1,) dtype=float32, numpy=array([0.], dtype=float32)>\"].",
     "output_type": "error",
     "traceback": [
      "\u001b[1;31m---------------------------------------------------------------------------\u001b[0m",
      "\u001b[1;31mValueError\u001b[0m                                Traceback (most recent call last)",
      "\u001b[1;32m<ipython-input-34-40e76a2da921>\u001b[0m in \u001b[0;36m<module>\u001b[1;34m\u001b[0m\n\u001b[0;32m     19\u001b[0m \u001b[1;33m\u001b[0m\u001b[0m\n\u001b[0;32m     20\u001b[0m         \u001b[0mgrads\u001b[0m \u001b[1;33m=\u001b[0m \u001b[0mtape\u001b[0m\u001b[1;33m.\u001b[0m\u001b[0mgradient\u001b[0m\u001b[1;33m(\u001b[0m\u001b[0mloss\u001b[0m\u001b[1;33m,\u001b[0m \u001b[0madversarialModel\u001b[0m\u001b[1;33m.\u001b[0m\u001b[0mtrainable_variables\u001b[0m\u001b[1;33m)\u001b[0m\u001b[1;33m\u001b[0m\u001b[1;33m\u001b[0m\u001b[0m\n\u001b[1;32m---> 21\u001b[1;33m         \u001b[0moptimizer\u001b[0m\u001b[1;33m.\u001b[0m\u001b[0mapply_gradients\u001b[0m\u001b[1;33m(\u001b[0m\u001b[0mzip\u001b[0m\u001b[1;33m(\u001b[0m\u001b[0mgrads\u001b[0m\u001b[1;33m,\u001b[0m \u001b[0madversarialModel\u001b[0m\u001b[1;33m.\u001b[0m\u001b[0mtrainable_variables\u001b[0m\u001b[1;33m)\u001b[0m\u001b[1;33m,\u001b[0m \u001b[0mglobal_step\u001b[0m\u001b[1;33m=\u001b[0m\u001b[0mtf\u001b[0m\u001b[1;33m.\u001b[0m\u001b[0mtrain\u001b[0m\u001b[1;33m.\u001b[0m\u001b[0mget_or_create_global_step\u001b[0m\u001b[1;33m(\u001b[0m\u001b[1;33m)\u001b[0m\u001b[1;33m)\u001b[0m\u001b[1;33m\u001b[0m\u001b[1;33m\u001b[0m\u001b[0m\n\u001b[0m\u001b[0;32m     22\u001b[0m \u001b[1;33m\u001b[0m\u001b[0m\n\u001b[0;32m     23\u001b[0m         \u001b[1;32mif\u001b[0m \u001b[0mbatch\u001b[0m\u001b[1;33m%\u001b[0m\u001b[1;36m10\u001b[0m \u001b[1;33m==\u001b[0m \u001b[1;36m0\u001b[0m\u001b[1;33m:\u001b[0m\u001b[1;33m\u001b[0m\u001b[1;33m\u001b[0m\u001b[0m\n",
      "\u001b[1;32mc:\\users\\shivin\\anaconda3\\envs\\tensorflow\\lib\\site-packages\\tensorflow\\python\\training\\optimizer.py\u001b[0m in \u001b[0;36mapply_gradients\u001b[1;34m(self, grads_and_vars, global_step, name)\u001b[0m\n\u001b[0;32m    589\u001b[0m     \u001b[1;32mif\u001b[0m \u001b[1;32mnot\u001b[0m \u001b[0mvar_list\u001b[0m\u001b[1;33m:\u001b[0m\u001b[1;33m\u001b[0m\u001b[1;33m\u001b[0m\u001b[0m\n\u001b[0;32m    590\u001b[0m       raise ValueError(\"No gradients provided for any variable: %s.\" %\n\u001b[1;32m--> 591\u001b[1;33m                        ([str(v) for _, v, _ in converted_grads_and_vars],))\n\u001b[0m\u001b[0;32m    592\u001b[0m     \u001b[1;32mwith\u001b[0m \u001b[0mops\u001b[0m\u001b[1;33m.\u001b[0m\u001b[0minit_scope\u001b[0m\u001b[1;33m(\u001b[0m\u001b[1;33m)\u001b[0m\u001b[1;33m:\u001b[0m\u001b[1;33m\u001b[0m\u001b[1;33m\u001b[0m\u001b[0m\n\u001b[0;32m    593\u001b[0m       \u001b[0mself\u001b[0m\u001b[1;33m.\u001b[0m\u001b[0m_create_slots\u001b[0m\u001b[1;33m(\u001b[0m\u001b[0mvar_list\u001b[0m\u001b[1;33m)\u001b[0m\u001b[1;33m\u001b[0m\u001b[1;33m\u001b[0m\u001b[0m\n",
      "\u001b[1;31mValueError\u001b[0m: No gradients provided for any variable: [\"<tf.Variable 'sequential_3/dense_6/kernel:0' shape=(1, 32) dtype=float32, numpy=\\narray([[ 2.88196266e-01,  3.85440886e-01,  4.61042225e-02,\\n         3.13634157e-01, -2.14485824e-01,  2.37595558e-01,\\n         3.65222454e-01,  2.92484403e-01,  4.05001998e-01,\\n         2.87741423e-01,  4.15382981e-01,  1.40994787e-04,\\n        -5.53731620e-02,  4.25974369e-01,  2.95409918e-01,\\n        -4.09557372e-01, -2.68551618e-01, -6.13611937e-03,\\n        -4.68383431e-02,  1.44419253e-01, -3.01740319e-01,\\n        -2.23388776e-01, -3.33287954e-01,  2.30480134e-01,\\n         3.58040512e-01,  2.95596182e-01,  1.00669205e-01,\\n         2.77746022e-01,  1.24676466e-01,  3.33411694e-01,\\n        -1.15648687e-01,  1.37585700e-01]], dtype=float32)>\", \"<tf.Variable 'sequential_3/dense_6/bias:0' shape=(32,) dtype=float32, numpy=\\narray([0., 0., 0., 0., 0., 0., 0., 0., 0., 0., 0., 0., 0., 0., 0., 0., 0.,\\n       0., 0., 0., 0., 0., 0., 0., 0., 0., 0., 0., 0., 0., 0., 0.],\\n      dtype=float32)>\", \"<tf.Variable 'sequential_3/dense_7/kernel:0' shape=(32, 1) dtype=float32, numpy=\\narray([[-0.25014216],\\n       [-0.02677321],\\n       [-0.16590044],\\n       [ 0.01334751],\\n       [ 0.11586785],\\n       [ 0.21186316],\\n       [ 0.29636788],\\n       [ 0.0011687 ],\\n       [ 0.15724003],\\n       [-0.41779187],\\n       [-0.03569192],\\n       [-0.37300092],\\n       [-0.09307066],\\n       [ 0.0190351 ],\\n       [-0.17378554],\\n       [ 0.15034372],\\n       [-0.1028659 ],\\n       [-0.29841077],\\n       [-0.23481406],\\n       [-0.3392158 ],\\n       [ 0.13119495],\\n       [ 0.36371744],\\n       [ 0.3285126 ],\\n       [-0.18267354],\\n       [-0.37584704],\\n       [-0.40394533],\\n       [ 0.03710786],\\n       [-0.2671455 ],\\n       [ 0.07168719],\\n       [ 0.29223043],\\n       [ 0.39716595],\\n       [ 0.2776329 ]], dtype=float32)>\", \"<tf.Variable 'sequential_3/dense_7/bias:0' shape=(1,) dtype=float32, numpy=array([0.], dtype=float32)>\"]."
     ]
    }
   ],
   "source": [
    "optimizer = tf.train.AdamOptimizer()\n",
    "\n",
    "for epoch in range(NUM_EPOCHS):\n",
    "\n",
    "    for (batch, (vals, orig_labels)) in enumerate(dataset.take(-1)):\n",
    "        \n",
    "        with tf.GradientTape() as tape:\n",
    "            \n",
    "            pred_labels = myTree.predict(vals.numpy())\n",
    "            noise = adversarialModel(vals)\n",
    "            new_labels = myTree.predict(tf.add(vals, noise).numpy())\n",
    "\n",
    "            regTerm = tf.reduce_mean(tf.math.square(noise))\n",
    "            missTerm = tf.reduce_mean(tf.cast(tf.math.abs(\n",
    "                        tf.math.subtract(new_labels, tf.math.subtract(1, pred_labels))), dtype=tf.float32))\n",
    "\n",
    "            loss = missTerm\n",
    "            #tf.add(tf.math.multiply(0.0, REG_COEFF), tf.math.multiply(missTerm, MIS_COEFF))\n",
    "\n",
    "        grads = tape.gradient(loss, adversarialModel.trainable_variables)\n",
    "        optimizer.apply_gradients(zip(grads, adversarialModel.trainable_variables), global_step=tf.train.get_or_create_global_step())\n",
    "        \n",
    "        if batch%10 == 0:\n",
    "            modelHistory['reg_loss'].append(regTerm.numpy())\n",
    "            modelHistory['miss_loss'].append(missTerm.numpy())\n",
    "            modelHistory['noise'].append(noise.numpy())\n",
    "            modelHistory['values'].append(vals.numpy())\n",
    "            modelHistory['orig_labels'].append(orig_labels.numpy())\n",
    "            modelHistory['pred_labels'].append(pred_labels)\n",
    "            modelHistory['new_labels'].append(new_labels)\n",
    "    "
   ]
  },
  {
   "cell_type": "code",
   "execution_count": null,
   "metadata": {},
   "outputs": [],
   "source": [
    "plt.plot(modelHistory['reg_loss'])\n",
    "plt.plot(modelHistory['miss_loss'])"
   ]
  },
  {
   "cell_type": "markdown",
   "metadata": {},
   "source": [
    "##### Graphs and Sessions"
   ]
  },
  {
   "cell_type": "code",
   "execution_count": 16,
   "metadata": {},
   "outputs": [
    {
     "ename": "InvalidArgumentError",
     "evalue": "You must feed a value for placeholder tensor 'Placeholder' with dtype float and shape [10,1]\n\t [[{{node Placeholder}} = Placeholder[dtype=DT_FLOAT, shape=[10,1], _device=\"/job:localhost/replica:0/task:0/device:GPU:0\"]()]]\n\t [[{{node Softmax/_139}} = _Recv[client_terminated=false, recv_device=\"/job:localhost/replica:0/task:0/device:CPU:0\", send_device=\"/job:localhost/replica:0/task:0/device:GPU:0\", send_device_incarnation=1, tensor_name=\"edge_89_Softmax\", tensor_type=DT_FLOAT, _device=\"/job:localhost/replica:0/task:0/device:CPU:0\"]()]]",
     "output_type": "error",
     "traceback": [
      "\u001b[1;31m---------------------------------------------------------------------------\u001b[0m",
      "\u001b[1;31mInvalidArgumentError\u001b[0m                      Traceback (most recent call last)",
      "\u001b[1;32m<ipython-input-16-f126352f8679>\u001b[0m in \u001b[0;36m<module>\u001b[1;34m\u001b[0m\n\u001b[0;32m     29\u001b[0m \u001b[0mnoise\u001b[0m \u001b[1;33m=\u001b[0m \u001b[0mnoiseModel\u001b[0m\u001b[1;33m(\u001b[0m\u001b[0mvalue_input\u001b[0m\u001b[1;33m)\u001b[0m\u001b[1;33m\u001b[0m\u001b[1;33m\u001b[0m\u001b[0m\n\u001b[0;32m     30\u001b[0m \u001b[1;33m\u001b[0m\u001b[0m\n\u001b[1;32m---> 31\u001b[1;33m \u001b[0mregTerm\u001b[0m\u001b[1;33m,\u001b[0m \u001b[0mmissTerm\u001b[0m\u001b[1;33m,\u001b[0m \u001b[0mnew_labels\u001b[0m \u001b[1;33m=\u001b[0m \u001b[0mlossFunc\u001b[0m\u001b[1;33m(\u001b[0m\u001b[0mnoise\u001b[0m\u001b[1;33m,\u001b[0m \u001b[0morig_label\u001b[0m\u001b[1;33m,\u001b[0m \u001b[0mvalue_input\u001b[0m\u001b[1;33m)\u001b[0m\u001b[1;33m\u001b[0m\u001b[1;33m\u001b[0m\u001b[0m\n\u001b[0m\u001b[0;32m     32\u001b[0m \u001b[0mloss\u001b[0m \u001b[1;33m=\u001b[0m \u001b[0mmissTerm\u001b[0m\u001b[1;33m\u001b[0m\u001b[1;33m\u001b[0m\u001b[0m\n\u001b[0;32m     33\u001b[0m \u001b[1;31m# tf.math.add(regTerm, missTerm)\u001b[0m\u001b[1;33m\u001b[0m\u001b[1;33m\u001b[0m\u001b[1;33m\u001b[0m\u001b[0m\n",
      "\u001b[1;32m<ipython-input-16-f126352f8679>\u001b[0m in \u001b[0;36mlossFunc\u001b[1;34m(noise, orig_label, value_input)\u001b[0m\n\u001b[0;32m      4\u001b[0m \u001b[1;32mdef\u001b[0m \u001b[0mlossFunc\u001b[0m\u001b[1;33m(\u001b[0m\u001b[0mnoise\u001b[0m\u001b[1;33m,\u001b[0m \u001b[0morig_label\u001b[0m\u001b[1;33m,\u001b[0m \u001b[0mvalue_input\u001b[0m\u001b[1;33m)\u001b[0m\u001b[1;33m:\u001b[0m\u001b[1;33m\u001b[0m\u001b[1;33m\u001b[0m\u001b[0m\n\u001b[0;32m      5\u001b[0m \u001b[1;33m\u001b[0m\u001b[0m\n\u001b[1;32m----> 6\u001b[1;33m     \u001b[0mnew_labels\u001b[0m \u001b[1;33m=\u001b[0m \u001b[0mclassifierModel\u001b[0m\u001b[1;33m.\u001b[0m\u001b[0mpredict\u001b[0m\u001b[1;33m(\u001b[0m\u001b[0mtf\u001b[0m\u001b[1;33m.\u001b[0m\u001b[0madd\u001b[0m\u001b[1;33m(\u001b[0m\u001b[0mnoise\u001b[0m\u001b[1;33m,\u001b[0m \u001b[0mvalue_input\u001b[0m\u001b[1;33m)\u001b[0m\u001b[1;33m,\u001b[0m \u001b[0msteps\u001b[0m\u001b[1;33m=\u001b[0m\u001b[1;36m1\u001b[0m\u001b[1;33m)\u001b[0m\u001b[1;33m\u001b[0m\u001b[1;33m\u001b[0m\u001b[0m\n\u001b[0m\u001b[0;32m      7\u001b[0m \u001b[1;33m\u001b[0m\u001b[0m\n\u001b[0;32m      8\u001b[0m     \u001b[0mregTerm\u001b[0m \u001b[1;33m=\u001b[0m \u001b[0mtf\u001b[0m\u001b[1;33m.\u001b[0m\u001b[0mreduce_mean\u001b[0m\u001b[1;33m(\u001b[0m\u001b[0mtf\u001b[0m\u001b[1;33m.\u001b[0m\u001b[0mmath\u001b[0m\u001b[1;33m.\u001b[0m\u001b[0msquare\u001b[0m\u001b[1;33m(\u001b[0m\u001b[0mnoise\u001b[0m\u001b[1;33m)\u001b[0m\u001b[1;33m)\u001b[0m\u001b[1;33m\u001b[0m\u001b[1;33m\u001b[0m\u001b[0m\n",
      "\u001b[1;32mc:\\users\\shivin\\anaconda3\\envs\\tensorflow\\lib\\site-packages\\tensorflow\\python\\keras\\engine\\training.py\u001b[0m in \u001b[0;36mpredict\u001b[1;34m(self, x, batch_size, verbose, steps, max_queue_size, workers, use_multiprocessing)\u001b[0m\n\u001b[0;32m   1876\u001b[0m     \u001b[1;32melse\u001b[0m\u001b[1;33m:\u001b[0m\u001b[1;33m\u001b[0m\u001b[1;33m\u001b[0m\u001b[0m\n\u001b[0;32m   1877\u001b[0m       return training_arrays.predict_loop(\n\u001b[1;32m-> 1878\u001b[1;33m           self, x, batch_size=batch_size, verbose=verbose, steps=steps)\n\u001b[0m\u001b[0;32m   1879\u001b[0m \u001b[1;33m\u001b[0m\u001b[0m\n\u001b[0;32m   1880\u001b[0m   \u001b[1;32mdef\u001b[0m \u001b[0mtrain_on_batch\u001b[0m\u001b[1;33m(\u001b[0m\u001b[0mself\u001b[0m\u001b[1;33m,\u001b[0m \u001b[0mx\u001b[0m\u001b[1;33m,\u001b[0m \u001b[0my\u001b[0m\u001b[1;33m=\u001b[0m\u001b[1;32mNone\u001b[0m\u001b[1;33m,\u001b[0m \u001b[0msample_weight\u001b[0m\u001b[1;33m=\u001b[0m\u001b[1;32mNone\u001b[0m\u001b[1;33m,\u001b[0m \u001b[0mclass_weight\u001b[0m\u001b[1;33m=\u001b[0m\u001b[1;32mNone\u001b[0m\u001b[1;33m)\u001b[0m\u001b[1;33m:\u001b[0m\u001b[1;33m\u001b[0m\u001b[1;33m\u001b[0m\u001b[0m\n",
      "\u001b[1;32mc:\\users\\shivin\\anaconda3\\envs\\tensorflow\\lib\\site-packages\\tensorflow\\python\\keras\\engine\\training_arrays.py\u001b[0m in \u001b[0;36mpredict_loop\u001b[1;34m(model, inputs, batch_size, verbose, steps)\u001b[0m\n\u001b[0;32m    293\u001b[0m     \u001b[0munconcatenated_outs\u001b[0m \u001b[1;33m=\u001b[0m \u001b[1;33m[\u001b[0m\u001b[1;33m]\u001b[0m\u001b[1;33m\u001b[0m\u001b[1;33m\u001b[0m\u001b[0m\n\u001b[0;32m    294\u001b[0m     \u001b[1;32mfor\u001b[0m \u001b[0mstep\u001b[0m \u001b[1;32min\u001b[0m \u001b[0mrange\u001b[0m\u001b[1;33m(\u001b[0m\u001b[0msteps\u001b[0m\u001b[1;33m)\u001b[0m\u001b[1;33m:\u001b[0m\u001b[1;33m\u001b[0m\u001b[1;33m\u001b[0m\u001b[0m\n\u001b[1;32m--> 295\u001b[1;33m       \u001b[0mbatch_outs\u001b[0m \u001b[1;33m=\u001b[0m \u001b[0mf\u001b[0m\u001b[1;33m(\u001b[0m\u001b[0mins\u001b[0m\u001b[1;33m)\u001b[0m\u001b[1;33m\u001b[0m\u001b[1;33m\u001b[0m\u001b[0m\n\u001b[0m\u001b[0;32m    296\u001b[0m       \u001b[1;32mif\u001b[0m \u001b[1;32mnot\u001b[0m \u001b[0misinstance\u001b[0m\u001b[1;33m(\u001b[0m\u001b[0mbatch_outs\u001b[0m\u001b[1;33m,\u001b[0m \u001b[0mlist\u001b[0m\u001b[1;33m)\u001b[0m\u001b[1;33m:\u001b[0m\u001b[1;33m\u001b[0m\u001b[1;33m\u001b[0m\u001b[0m\n\u001b[0;32m    297\u001b[0m         \u001b[0mbatch_outs\u001b[0m \u001b[1;33m=\u001b[0m \u001b[1;33m[\u001b[0m\u001b[0mbatch_outs\u001b[0m\u001b[1;33m]\u001b[0m\u001b[1;33m\u001b[0m\u001b[1;33m\u001b[0m\u001b[0m\n",
      "\u001b[1;32mc:\\users\\shivin\\anaconda3\\envs\\tensorflow\\lib\\site-packages\\tensorflow\\python\\keras\\backend.py\u001b[0m in \u001b[0;36m__call__\u001b[1;34m(self, inputs)\u001b[0m\n\u001b[0;32m   2984\u001b[0m \u001b[1;33m\u001b[0m\u001b[0m\n\u001b[0;32m   2985\u001b[0m     fetched = self._callable_fn(*array_vals,\n\u001b[1;32m-> 2986\u001b[1;33m                                 run_metadata=self.run_metadata)\n\u001b[0m\u001b[0;32m   2987\u001b[0m     \u001b[0mself\u001b[0m\u001b[1;33m.\u001b[0m\u001b[0m_call_fetch_callbacks\u001b[0m\u001b[1;33m(\u001b[0m\u001b[0mfetched\u001b[0m\u001b[1;33m[\u001b[0m\u001b[1;33m-\u001b[0m\u001b[0mlen\u001b[0m\u001b[1;33m(\u001b[0m\u001b[0mself\u001b[0m\u001b[1;33m.\u001b[0m\u001b[0m_fetches\u001b[0m\u001b[1;33m)\u001b[0m\u001b[1;33m:\u001b[0m\u001b[1;33m]\u001b[0m\u001b[1;33m)\u001b[0m\u001b[1;33m\u001b[0m\u001b[1;33m\u001b[0m\u001b[0m\n\u001b[0;32m   2988\u001b[0m     \u001b[1;32mreturn\u001b[0m \u001b[0mfetched\u001b[0m\u001b[1;33m[\u001b[0m\u001b[1;33m:\u001b[0m\u001b[0mlen\u001b[0m\u001b[1;33m(\u001b[0m\u001b[0mself\u001b[0m\u001b[1;33m.\u001b[0m\u001b[0moutputs\u001b[0m\u001b[1;33m)\u001b[0m\u001b[1;33m]\u001b[0m\u001b[1;33m\u001b[0m\u001b[1;33m\u001b[0m\u001b[0m\n",
      "\u001b[1;32mc:\\users\\shivin\\anaconda3\\envs\\tensorflow\\lib\\site-packages\\tensorflow\\python\\client\\session.py\u001b[0m in \u001b[0;36m__call__\u001b[1;34m(self, *args, **kwargs)\u001b[0m\n\u001b[0;32m   1437\u001b[0m           ret = tf_session.TF_SessionRunCallable(\n\u001b[0;32m   1438\u001b[0m               \u001b[0mself\u001b[0m\u001b[1;33m.\u001b[0m\u001b[0m_session\u001b[0m\u001b[1;33m.\u001b[0m\u001b[0m_session\u001b[0m\u001b[1;33m,\u001b[0m \u001b[0mself\u001b[0m\u001b[1;33m.\u001b[0m\u001b[0m_handle\u001b[0m\u001b[1;33m,\u001b[0m \u001b[0margs\u001b[0m\u001b[1;33m,\u001b[0m \u001b[0mstatus\u001b[0m\u001b[1;33m,\u001b[0m\u001b[1;33m\u001b[0m\u001b[1;33m\u001b[0m\u001b[0m\n\u001b[1;32m-> 1439\u001b[1;33m               run_metadata_ptr)\n\u001b[0m\u001b[0;32m   1440\u001b[0m         \u001b[1;32mif\u001b[0m \u001b[0mrun_metadata\u001b[0m\u001b[1;33m:\u001b[0m\u001b[1;33m\u001b[0m\u001b[1;33m\u001b[0m\u001b[0m\n\u001b[0;32m   1441\u001b[0m           \u001b[0mproto_data\u001b[0m \u001b[1;33m=\u001b[0m \u001b[0mtf_session\u001b[0m\u001b[1;33m.\u001b[0m\u001b[0mTF_GetBuffer\u001b[0m\u001b[1;33m(\u001b[0m\u001b[0mrun_metadata_ptr\u001b[0m\u001b[1;33m)\u001b[0m\u001b[1;33m\u001b[0m\u001b[1;33m\u001b[0m\u001b[0m\n",
      "\u001b[1;32mc:\\users\\shivin\\anaconda3\\envs\\tensorflow\\lib\\site-packages\\tensorflow\\python\\framework\\errors_impl.py\u001b[0m in \u001b[0;36m__exit__\u001b[1;34m(self, type_arg, value_arg, traceback_arg)\u001b[0m\n\u001b[0;32m    526\u001b[0m             \u001b[1;32mNone\u001b[0m\u001b[1;33m,\u001b[0m \u001b[1;32mNone\u001b[0m\u001b[1;33m,\u001b[0m\u001b[1;33m\u001b[0m\u001b[1;33m\u001b[0m\u001b[0m\n\u001b[0;32m    527\u001b[0m             \u001b[0mcompat\u001b[0m\u001b[1;33m.\u001b[0m\u001b[0mas_text\u001b[0m\u001b[1;33m(\u001b[0m\u001b[0mc_api\u001b[0m\u001b[1;33m.\u001b[0m\u001b[0mTF_Message\u001b[0m\u001b[1;33m(\u001b[0m\u001b[0mself\u001b[0m\u001b[1;33m.\u001b[0m\u001b[0mstatus\u001b[0m\u001b[1;33m.\u001b[0m\u001b[0mstatus\u001b[0m\u001b[1;33m)\u001b[0m\u001b[1;33m)\u001b[0m\u001b[1;33m,\u001b[0m\u001b[1;33m\u001b[0m\u001b[1;33m\u001b[0m\u001b[0m\n\u001b[1;32m--> 528\u001b[1;33m             c_api.TF_GetCode(self.status.status))\n\u001b[0m\u001b[0;32m    529\u001b[0m     \u001b[1;31m# Delete the underlying status object from memory otherwise it stays alive\u001b[0m\u001b[1;33m\u001b[0m\u001b[1;33m\u001b[0m\u001b[1;33m\u001b[0m\u001b[0m\n\u001b[0;32m    530\u001b[0m     \u001b[1;31m# as there is a reference to status from this from the traceback due to\u001b[0m\u001b[1;33m\u001b[0m\u001b[1;33m\u001b[0m\u001b[1;33m\u001b[0m\u001b[0m\n",
      "\u001b[1;31mInvalidArgumentError\u001b[0m: You must feed a value for placeholder tensor 'Placeholder' with dtype float and shape [10,1]\n\t [[{{node Placeholder}} = Placeholder[dtype=DT_FLOAT, shape=[10,1], _device=\"/job:localhost/replica:0/task:0/device:GPU:0\"]()]]\n\t [[{{node Softmax/_139}} = _Recv[client_terminated=false, recv_device=\"/job:localhost/replica:0/task:0/device:CPU:0\", send_device=\"/job:localhost/replica:0/task:0/device:GPU:0\", send_device_incarnation=1, tensor_name=\"edge_89_Softmax\", tensor_type=DT_FLOAT, _device=\"/job:localhost/replica:0/task:0/device:CPU:0\"]()]]"
     ]
    }
   ],
   "source": [
    "BATCH_SIZE = 10\n",
    "\n",
    "\n",
    "def lossFunc(noise, orig_label, value_input):\n",
    "    \n",
    "    new_labels = classifierModel.predict(tf.add(noise, value_input), steps=1)\n",
    "    \n",
    "    regTerm = tf.reduce_mean(tf.math.square(noise))\n",
    "    # Comparing accuracy of produced\n",
    "    missTerm = tf.reduce_mean(tf.keras.losses.sparse_categorical_crossentropy(tf.math.subtract(1, orig_label), \n",
    "                                                                              new_labels))\n",
    "    \n",
    "    # tf.reduce_mean(tf.math.squared_difference(tf.cast(tf.math.subtract(1, orig_label), dtype=tf.int32), \n",
    "    #                                                   tf.cast(tf.argmax(newLabel, axis=1), dtype=tf.int32)))\n",
    "    \n",
    "    return (tf.math.multiply(regTerm, REG_COEFF), tf.math.multiply(missTerm, MIS_COEFF), new_labels)\n",
    "\n",
    "\n",
    "def noiseModel(inputs):\n",
    "    l1 = tf.contrib.layers.flatten(inputs)\n",
    "    l2 = tf.contrib.layers.fully_connected(l1, 32, activation_fn = tf.nn.tanh)\n",
    "    l3 = tf.contrib.layers.dropout(l2, keep_prob=0.5)\n",
    "    l4 = tf.contrib.layers.fully_connected(l3, 1, activation_fn = tf.nn.tanh)\n",
    "    return l4\n",
    "\n",
    "value_input = tf.placeholder(tf.float32, shape = (BATCH_SIZE, 1))\n",
    "orig_label = tf.placeholder(tf.int32, shape = (BATCH_SIZE, 1))\n",
    "\n",
    "noise = noiseModel(value_input)\n",
    "\n",
    "regTerm, missTerm, new_labels = lossFunc(noise, orig_label, value_input)\n",
    "loss = missTerm\n",
    "# tf.math.add(regTerm, missTerm)\n",
    "\n",
    "optimizer = tf.train.AdamOptimizer(learning_rate = 0.001).minimize(loss)\n",
    "\n",
    "accuracy = tf.reduce_mean(tf.metrics.accuracy(tf.math.subtract(1, orig_label), tf.argmax(new_labels, axis=1)))"
   ]
  },
  {
   "cell_type": "code",
   "execution_count": null,
   "metadata": {},
   "outputs": [],
   "source": [
    "modelHistory = {'regLoss':[], 'missLoss':[], 'totalLoss':[], 'noise':[], 'batchValues':[], 'batchLabels':[], 'newLabels':[]}\n",
    "\n",
    "with tf.Session() as sess:\n",
    "    sess.run(tf.local_variables_initializer())\n",
    "    sess.run(tf.global_variables_initializer())\n",
    "    \n",
    "    classifierModel.load_weights('./classifierNNWeights')\n",
    "    # Training noise on batches of train_data\n",
    "    \n",
    "    for epochNum in range(1000):\n",
    "        \n",
    "        trainValuesBatches = np.array_split(train_data['Value'].values, int(TRAIN_EXAMPLES/BATCH_SIZE))\n",
    "        trainLabelsBatches = np.array_split(train_data['Label'].values, int(TRAIN_EXAMPLES/BATCH_SIZE))\n",
    "        \n",
    "        for batchNum in np.random.randint(high=int(TRAIN_EXAMPLES/BATCH_SIZE)-1, low=0, size=(BATCH_SIZE, )):\n",
    "            \n",
    "            singleBatchValues = np.reshape(trainValuesBatches[batchNum], newshape=(-1,1))\n",
    "            singleBatchLabels = np.reshape(trainLabelsBatches[batchNum], newshape=(-1,1))\n",
    "            \n",
    "            #noise_val = sess.run([noise], feed_dict={value_input : singleBatchValues})\n",
    "            \n",
    "            #new_labels_val = classifierModel.predict(trainValuesBatches[batchNum] + np.reshape(noise_val, newshape=(10, )))\n",
    "            \n",
    "            # if epochNum == 999:\n",
    "#             print(\"ORIG VALUES : \")\n",
    "#             print(trainValuesBatches[batchNum])\n",
    "#             print(\"ORIG LABELS : \")\n",
    "#             print(classifierModel.predict(trainValuesBatches[batchNum]))\n",
    "#             print(\"NOISE : \")\n",
    "#             print(noise_val)\n",
    "#             print(\"NEW LABELS : \")\n",
    "#             print(new_labels_val)\n",
    "            \n",
    "            _, reg_val, miss_val, noise_val, new_labels_val = sess.run([optimizer, regTerm, missTerm, noise, new_labels], \n",
    "                                                             feed_dict={value_input : singleBatchValues,\n",
    "                                                                        orig_label : singleBatchLabels})\n",
    "            \n",
    "    \n",
    "    \n",
    "    # Testing noise on batches of test_data\n",
    "    \n",
    "#     testValuesBatches = np.array_split(test_data['Value'].values, int(TEST_EXAMPLES/BATCH_SIZE))\n",
    "#     testLabelsBatches = np.array_split(test_data['Label'].values, int(TEST_EXAMPLES/BATCH_SIZE))\n",
    "    \n",
    "#     accuHistory = []\n",
    "    \n",
    "#     for batchNum in range(int(TEST_EXAMPLES/BATCH_SIZE)):\n",
    "        \n",
    "#         acc_val = sess.run([accuracy], feed_dict={value_input : np.reshape(testValuesBatches[batchNum], newshape=(-1,1)),\n",
    "#                                                    orig_label : np.reshape(testLabelsBatches[batchNum], newshape=(-1,1))})\n",
    "        \n",
    "#         accuHistory.append(acc_val)\n",
    "        "
   ]
  },
  {
   "cell_type": "code",
   "execution_count": null,
   "metadata": {},
   "outputs": [],
   "source": [
    "plt.plot(modelHistory['regLoss'])\n",
    "plt.plot(modelHistory['missLoss'])\n",
    "# plt.plot(modelHistory['totalLoss'])"
   ]
  },
  {
   "cell_type": "code",
   "execution_count": null,
   "metadata": {},
   "outputs": [],
   "source": [
    "modelHistory['batchValues'][-1]"
   ]
  },
  {
   "cell_type": "code",
   "execution_count": null,
   "metadata": {
    "scrolled": true
   },
   "outputs": [],
   "source": [
    "classifierModel.predict(modelHistory['batchValues'][-1])"
   ]
  },
  {
   "cell_type": "code",
   "execution_count": null,
   "metadata": {
    "scrolled": true
   },
   "outputs": [],
   "source": [
    "modelHistory['noise'][-1][0].reshape(10,)"
   ]
  },
  {
   "cell_type": "code",
   "execution_count": null,
   "metadata": {},
   "outputs": [],
   "source": [
    "modelHistory['batchValues'][-1] + modelHistory['noise'][-1][0].reshape(10,)"
   ]
  },
  {
   "cell_type": "code",
   "execution_count": null,
   "metadata": {},
   "outputs": [],
   "source": [
    "np.argmax(modelHistory['newLabels'][-1], axis=1)"
   ]
  },
  {
   "cell_type": "code",
   "execution_count": null,
   "metadata": {},
   "outputs": [],
   "source": [
    "np.argmax(classifierModel.predict(modelHistory['batchValues'][-1] + modelHistory['noise'][-1][0].reshape(10,)), axis=1)"
   ]
  }
 ],
 "metadata": {
  "kernelspec": {
   "display_name": "Python 3",
   "language": "python",
   "name": "python3"
  },
  "language_info": {
   "codemirror_mode": {
    "name": "ipython",
    "version": 3
   },
   "file_extension": ".py",
   "mimetype": "text/x-python",
   "name": "python",
   "nbconvert_exporter": "python",
   "pygments_lexer": "ipython3",
   "version": "3.6.7"
  }
 },
 "nbformat": 4,
 "nbformat_minor": 2
}
